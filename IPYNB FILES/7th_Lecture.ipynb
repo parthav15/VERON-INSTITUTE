{
 "cells": [
  {
   "cell_type": "code",
   "execution_count": 1,
   "metadata": {},
   "outputs": [],
   "source": [
    "# A lambda function is a small anonymous function.\n",
    "\n",
    "# A lambda function can take any number of arguments, but can only have one expression."
   ]
  },
  {
   "cell_type": "code",
   "execution_count": 2,
   "metadata": {},
   "outputs": [],
   "source": [
    "# lambda arguments : expression"
   ]
  },
  {
   "cell_type": "code",
   "execution_count": 28,
   "metadata": {},
   "outputs": [
    {
     "name": "stdout",
     "output_type": "stream",
     "text": [
      "15\n"
     ]
    }
   ],
   "source": [
    "a = lambda x : x + 10\n",
    "\n",
    "print(a(5))"
   ]
  },
  {
   "cell_type": "code",
   "execution_count": 30,
   "metadata": {},
   "outputs": [
    {
     "name": "stdout",
     "output_type": "stream",
     "text": [
      "36\n"
     ]
    }
   ],
   "source": [
    "a = lambda x, y: x * y\n",
    "\n",
    "print(a(6, 6))"
   ]
  },
  {
   "cell_type": "code",
   "execution_count": 6,
   "metadata": {},
   "outputs": [
    {
     "name": "stdout",
     "output_type": "stream",
     "text": [
      "13\n"
     ]
    }
   ],
   "source": [
    "x = lambda a, b, c : a + b + c\n",
    "\n",
    "print(x(5, 6, 2))"
   ]
  },
  {
   "cell_type": "code",
   "execution_count": 35,
   "metadata": {},
   "outputs": [
    {
     "name": "stdout",
     "output_type": "stream",
     "text": [
      "[True, False, False, False]\n"
     ]
    }
   ],
   "source": [
    "students = [\n",
    "    {'name': 'Abhay', 'age': 20, 'grade': 85},\n",
    "    {'name': 'Kangana', 'age': 22, 'grade': 90},\n",
    "    {'name': 'Kartik', 'age': 21, 'grade': 78},\n",
    "    {'name': 'Kriti', 'age': 20, 'grade': 92}\n",
    "]\n",
    "\n",
    "filtered_students = list(map(lambda x: x['name'] == 'Abhay', students))\n",
    "\n",
    "import json\n",
    "\n",
    "a = json.dumps(filtered_students, indent = 3)\n",
    "\n",
    "print(filtered_students)"
   ]
  },
  {
   "cell_type": "code",
   "execution_count": 38,
   "metadata": {},
   "outputs": [
    {
     "name": "stdout",
     "output_type": "stream",
     "text": [
      "Abhay\n",
      "Hi, Abhay Parthav\n"
     ]
    }
   ],
   "source": [
    "class veron_team():\n",
    "    def __init__(self, name_1, name_2 = \"Parthav\"):\n",
    "        self.name_1 = name_1\n",
    "        self.name_2 = name_2\n",
    "\n",
    "    def call_with_name(self):\n",
    "        return f'Hi, {self.name_1} {self.name_2}'\n",
    "    \n",
    "obj = veron_team('Abhay')\n",
    "print(obj.name_1)\n",
    "print(obj.call_with_name())"
   ]
  },
  {
   "cell_type": "code",
   "execution_count": 43,
   "metadata": {},
   "outputs": [
    {
     "name": "stdout",
     "output_type": "stream",
     "text": [
      "Swift 2011 20\n"
     ]
    }
   ],
   "source": [
    "class cars():\n",
    "    def __init__(self, car_name, car_model, car_mileage = \"20\"):\n",
    "        self.car_name = car_name\n",
    "        self.car_model = car_model\n",
    "        self.car_mileage = car_mileage\n",
    "\n",
    "object_1 = cars(\"Swift\", \"2011\")\n",
    "# object_2 = cars(\"Brezza\", \"2020\")\n",
    "\n",
    "print(object_1.car_name, object_1.car_model, object_1.car_mileage)\n",
    "# print(object_2.car_name, object_2.car_model)"
   ]
  },
  {
   "cell_type": "code",
   "execution_count": 44,
   "metadata": {},
   "outputs": [
    {
     "name": "stdout",
     "output_type": "stream",
     "text": [
      "15\n",
      "5\n"
     ]
    }
   ],
   "source": [
    "class Calculator:\n",
    "    def __init__(self, num1, num2):\n",
    "        self.num1 = num1\n",
    "        self.num2 = num2\n",
    "\n",
    "    def add(self):\n",
    "        return self.num1 + self.num2\n",
    "\n",
    "    def subtract(self):\n",
    "        return self.num1 - self.num2\n",
    "\n",
    "object_1 = Calculator(10, 5)\n",
    "\n",
    "print(object_1.add())\n",
    "print(object_1.subtract())"
   ]
  },
  {
   "cell_type": "code",
   "execution_count": 45,
   "metadata": {},
   "outputs": [
    {
     "name": "stdout",
     "output_type": "stream",
     "text": [
      "Hi Veron Team\n",
      "Hi Anyone\n"
     ]
    }
   ],
   "source": [
    "class Parent():\n",
    "    def call_with_name(self):\n",
    "        return \"Hi Veron Team\"\n",
    "\n",
    "class Child(Parent):\n",
    "    def call_anyone(self):\n",
    "        return \"Hi Anyone\"\n",
    "\n",
    "object_1 = Child()\n",
    "\n",
    "print(object_1.call_with_name())\n",
    "\n",
    "print(object_1.call_anyone())"
   ]
  },
  {
   "cell_type": "code",
   "execution_count": 2,
   "metadata": {},
   "outputs": [],
   "source": [
    "# Python Try Except\n",
    "\n",
    "# The try block lets you test a block of code for errors.\n",
    "\n",
    "# The except block lets you handle the error.\n",
    "\n",
    "# The else block lets you execute code when there is no error.\n",
    "\n",
    "# The finally block lets you execute code, regardless of the result of the try- and except blocks."
   ]
  },
  {
   "cell_type": "code",
   "execution_count": 56,
   "metadata": {},
   "outputs": [
    {
     "name": "stdout",
     "output_type": "stream",
     "text": [
      "10\n"
     ]
    }
   ],
   "source": [
    "try:\n",
    "  print(x)\n",
    "except Exception as e:\n",
    "  print(\"An exception occurred\", e)\n",
    "  pass"
   ]
  },
  {
   "cell_type": "code",
   "execution_count": 53,
   "metadata": {},
   "outputs": [
    {
     "name": "stdout",
     "output_type": "stream",
     "text": [
      "Something else went wrong:  division by zero\n"
     ]
    }
   ],
   "source": [
    "try:\n",
    "  print(x/0)\n",
    "except NameError as e:\n",
    "  print(\"Variable x is not defined: \", e)\n",
    "except Exception as e:\n",
    "  print(\"Something else went wrong: \", e)"
   ]
  },
  {
   "cell_type": "code",
   "execution_count": 11,
   "metadata": {},
   "outputs": [
    {
     "name": "stdout",
     "output_type": "stream",
     "text": [
      "Hello\n",
      "Nothing went wrong\n"
     ]
    }
   ],
   "source": [
    "try:\n",
    "  print(\"Hello\")\n",
    "except:\n",
    "  print(\"Something went wrong\")\n",
    "else:\n",
    "  print(\"Nothing went wrong\")"
   ]
  },
  {
   "cell_type": "code",
   "execution_count": 55,
   "metadata": {},
   "outputs": [
    {
     "name": "stdout",
     "output_type": "stream",
     "text": [
      "Something went wrong\n",
      "The 'try except' is finished\n"
     ]
    }
   ],
   "source": [
    "try:\n",
    "  print(y)\n",
    "except:\n",
    "  print(\"Something went wrong\")\n",
    "finally:\n",
    "  print(\"The 'try except' is finished\")"
   ]
  },
  {
   "cell_type": "code",
   "execution_count": 64,
   "metadata": {},
   "outputs": [
    {
     "name": "stdout",
     "output_type": "stream",
     "text": [
      "Something went wrong when opening the file: [Errno 2] No such file or directory: 'parthav/demofile.txt'\n"
     ]
    }
   ],
   "source": [
    "try:\n",
    "    f = open(\"parthav/demofile.txt\", \"w\")\n",
    "    try:\n",
    "        f.write(\"Hello Team Veron, How are you everyone?\")\n",
    "    except Exception as e:\n",
    "        print(\"Something went wrong when writing to the file:\", e)\n",
    "    finally:\n",
    "        f.close()\n",
    "except Exception as e:\n",
    "    print(\"Something went wrong when opening the file:\", e)"
   ]
  },
  {
   "cell_type": "code",
   "execution_count": null,
   "metadata": {},
   "outputs": [],
   "source": []
  }
 ],
 "metadata": {
  "kernelspec": {
   "display_name": "myenv",
   "language": "python",
   "name": "python3"
  },
  "language_info": {
   "codemirror_mode": {
    "name": "ipython",
    "version": 3
   },
   "file_extension": ".py",
   "mimetype": "text/x-python",
   "name": "python",
   "nbconvert_exporter": "python",
   "pygments_lexer": "ipython3",
   "version": "3.13.0"
  }
 },
 "nbformat": 4,
 "nbformat_minor": 2
}

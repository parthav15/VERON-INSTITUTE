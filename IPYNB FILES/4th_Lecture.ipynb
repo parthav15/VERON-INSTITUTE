{
 "cells": [
  {
   "cell_type": "markdown",
   "metadata": {},
   "source": [
    "**TUPLES IN PYTHON**"
   ]
  },
  {
   "cell_type": "markdown",
   "metadata": {},
   "source": [
    "Tuples are used to store multiple items in a single variable.\n",
    "\n",
    "- Tuple is one of 4 built-in data types in Python used to store collections of data, the other 3 are List, Set, and Dictionary, all with different qualities and usage.\n",
    "\n",
    "- A tuple is a collection which is ordered and unchangeable.\n",
    "\n",
    "- Tuples are written with round brackets."
   ]
  },
  {
   "cell_type": "code",
   "execution_count": 7,
   "metadata": {},
   "outputs": [
    {
     "name": "stdout",
     "output_type": "stream",
     "text": [
      "THIS IS THE TUPLE CREATED BY US:  ('P', 'A', 'R', 'T', 'H', 'A', 'V')\n",
      "THIS IS THE TYPE OF THE TUPLE CREATED BY US:  <class 'tuple'>\n"
     ]
    }
   ],
   "source": [
    "a = (\"P\", \"A\", \"R\", \"T\", \"H\", \"A\", \"V\")\n",
    "\n",
    "print(\"THIS IS THE TUPLE CREATED BY US: \", a)\n",
    "print(\"THIS IS THE TYPE OF THE TUPLE CREATED BY US: \", type(a))"
   ]
  },
  {
   "cell_type": "markdown",
   "metadata": {},
   "source": [
    "**Tuple Items**\n",
    "\n",
    "- Tuple items are ordered, unchangeable, and allow duplicate values.\n",
    "\n",
    "- Tuple items are indexed, the first item has index [0], the second item has index [1] etc."
   ]
  },
  {
   "cell_type": "markdown",
   "metadata": {},
   "source": [
    "**Ordered**\n",
    "\n",
    "- When we say that tuples are ordered, it means that the items have a defined order, and that order will not change."
   ]
  },
  {
   "cell_type": "markdown",
   "metadata": {},
   "source": [
    "**Unchangeable**\n",
    "\n",
    "- Tuples are unchangeable, meaning that we cannot change, add or remove items after the tuple has been created."
   ]
  },
  {
   "cell_type": "markdown",
   "metadata": {},
   "source": [
    "**Allow Duplicates**\n",
    "\n",
    "- Since tuples are indexed, they can have items with the same value:"
   ]
  },
  {
   "cell_type": "code",
   "execution_count": 10,
   "metadata": {},
   "outputs": [
    {
     "name": "stdout",
     "output_type": "stream",
     "text": [
      "THIS IS THE TUPLE CREATED BY US:  ('P', 'P', 'A', 'R', 'T', 'H', 'A', 'V')\n",
      "THIS IS THE TYPE OF THE TUPLE CREATED BY US:  <class 'tuple'>\n"
     ]
    }
   ],
   "source": [
    "a = (\"P\", \"P\", \"A\", \"R\", \"T\", \"H\", \"A\", \"V\")\n",
    "\n",
    "print(\"THIS IS THE TUPLE CREATED BY US: \", a)\n",
    "print(\"THIS IS THE TYPE OF THE TUPLE CREATED BY US: \", type(a))"
   ]
  },
  {
   "cell_type": "markdown",
   "metadata": {},
   "source": [
    "**Tuple Length**\n",
    "\n",
    "- To determine how many items a tuple has, use the len() function"
   ]
  },
  {
   "cell_type": "code",
   "execution_count": 12,
   "metadata": {},
   "outputs": [
    {
     "name": "stdout",
     "output_type": "stream",
     "text": [
      "THIS IS LENGTH OF THE TUPLE CREATED BY US:  7\n"
     ]
    }
   ],
   "source": [
    "a = (\"P\", \"A\", \"R\", \"T\", \"H\", \"A\", \"V\")\n",
    "\n",
    "print(\"THIS IS LENGTH OF THE TUPLE CREATED BY US: \", len(a))"
   ]
  },
  {
   "cell_type": "code",
   "execution_count": 13,
   "metadata": {},
   "outputs": [
    {
     "name": "stdout",
     "output_type": "stream",
     "text": [
      "('apple', 'banana', 'cherry')\n",
      "(1, 5, 7, 9, 3)\n",
      "(True, False, False)\n"
     ]
    }
   ],
   "source": [
    "tuple1 = (\"apple\", \"banana\", \"cherry\")\n",
    "tuple2 = (1, 5, 7, 9, 3)\n",
    "tuple3 = (True, False, False)\n",
    "\n",
    "print(tuple1)\n",
    "print(tuple2)\n",
    "print(tuple3)"
   ]
  },
  {
   "cell_type": "code",
   "execution_count": 14,
   "metadata": {},
   "outputs": [
    {
     "name": "stdout",
     "output_type": "stream",
     "text": [
      "('abc', 34.4, True, 40, 'male')\n"
     ]
    }
   ],
   "source": [
    "tuple1 = (\"abc\", 34.40, True, 40, \"male\")\n",
    "\n",
    "print(tuple1)"
   ]
  },
  {
   "cell_type": "code",
   "execution_count": 16,
   "metadata": {},
   "outputs": [
    {
     "name": "stdout",
     "output_type": "stream",
     "text": [
      "ELEMENT ON THE FIRST INDEX:  A\n"
     ]
    }
   ],
   "source": [
    "a = (\"P\", \"A\", \"R\", \"T\", \"H\", \"A\", \"V\")\n",
    "\n",
    "print(\"ELEMENT ON THE FIRST INDEX: \", a[1])"
   ]
  },
  {
   "cell_type": "code",
   "execution_count": 17,
   "metadata": {},
   "outputs": [
    {
     "name": "stdout",
     "output_type": "stream",
     "text": [
      "ELEMENT ON THE LAST INDEX (ACCESSED USING NEGATIVE INDEXING):  V\n"
     ]
    }
   ],
   "source": [
    "a = (\"P\", \"A\", \"R\", \"T\", \"H\", \"A\", \"V\")\n",
    "\n",
    "print(\"ELEMENT ON THE LAST INDEX (ACCESSED USING NEGATIVE INDEXING): \", a[-1])"
   ]
  },
  {
   "cell_type": "code",
   "execution_count": 18,
   "metadata": {},
   "outputs": [
    {
     "name": "stdout",
     "output_type": "stream",
     "text": [
      "INDEX RANGE:  ('R', 'T', 'H')\n"
     ]
    }
   ],
   "source": [
    "a = (\"P\", \"A\", \"R\", \"T\", \"H\", \"A\", \"V\")\n",
    "\n",
    "print(\"INDEX RANGE: \", a[2:5])"
   ]
  },
  {
   "cell_type": "code",
   "execution_count": 19,
   "metadata": {},
   "outputs": [
    {
     "name": "stdout",
     "output_type": "stream",
     "text": [
      "ELEMENT ON THE 0 INDEX:  P\n"
     ]
    }
   ],
   "source": [
    "a = (\"P\", \"A\", \"R\", \"T\", \"H\", \"A\", \"V\")\n",
    "\n",
    "print(\"ELEMENT ON THE 0 INDEX: \", a[0])"
   ]
  },
  {
   "cell_type": "code",
   "execution_count": 21,
   "metadata": {},
   "outputs": [
    {
     "name": "stdout",
     "output_type": "stream",
     "text": [
      "('P', 'A', 'R', 'T', 'H', 'A', 'V')\n"
     ]
    }
   ],
   "source": [
    "a = (\"P\", \"A\", \"R\", \"T\", \"H\", \"A\", \"V\")\n",
    "\n",
    "print(a[:])"
   ]
  },
  {
   "cell_type": "code",
   "execution_count": 23,
   "metadata": {},
   "outputs": [
    {
     "name": "stdout",
     "output_type": "stream",
     "text": [
      "('V', 'A', 'H', 'T', 'R', 'A', 'P')\n"
     ]
    }
   ],
   "source": [
    "a = (\"P\", \"A\", \"R\", \"T\", \"H\", \"A\", \"V\")\n",
    "\n",
    "print(a[::-1])"
   ]
  },
  {
   "cell_type": "code",
   "execution_count": 27,
   "metadata": {},
   "outputs": [
    {
     "name": "stdout",
     "output_type": "stream",
     "text": [
      "Letter P is present in the tuple a\n"
     ]
    }
   ],
   "source": [
    "a = (\"P\", \"A\", \"R\", \"T\", \"H\", \"A\", \"V\")\n",
    "\n",
    "if \"P\" in a:\n",
    "    print(\"Letter P is present in the tuple a\")\n",
    "else:\n",
    "    print(\"Letter P is not present in the tuple a\")"
   ]
  },
  {
   "cell_type": "code",
   "execution_count": 32,
   "metadata": {},
   "outputs": [
    {
     "name": "stdout",
     "output_type": "stream",
     "text": [
      "('P', 10, 'R', 'T', 'H', 'A', 'V')\n"
     ]
    }
   ],
   "source": [
    "a = (\"P\", \"A\", \"R\", \"T\", \"H\", \"A\", \"V\")\n",
    "\n",
    "b = list(a)\n",
    "\n",
    "b[1] = 10\n",
    "\n",
    "a = tuple(b)\n",
    "\n",
    "print(a)"
   ]
  },
  {
   "cell_type": "code",
   "execution_count": 34,
   "metadata": {},
   "outputs": [
    {
     "name": "stdout",
     "output_type": "stream",
     "text": [
      "('P', 'A', 'R', 'T', 'H', 'A', 'V', ' ', 'S', 'A', 'B', 'R', 'W', 'A', 'L')\n"
     ]
    }
   ],
   "source": [
    "a = (\"P\", \"A\", \"R\", \"T\", \"H\", \"A\", \"V\")\n",
    "\n",
    "b = (\" \", \"S\", \"A\", \"B\", \"R\", \"W\", \"A\", \"L\")\n",
    "\n",
    "a = a + b\n",
    "\n",
    "print(a)"
   ]
  },
  {
   "cell_type": "code",
   "execution_count": 39,
   "metadata": {},
   "outputs": [
    {
     "name": "stdout",
     "output_type": "stream",
     "text": [
      "('P', 'A', 'R', 'T', 'H', 'A', 'V', 'S')\n"
     ]
    }
   ],
   "source": [
    "a = (\"P\", \"A\", \"R\", \"T\", \"H\", \"A\", \"V\")\n",
    "\n",
    "b = list(a)\n",
    "\n",
    "b.append(\"S\")\n",
    "\n",
    "a = tuple(b)\n",
    "\n",
    "print(a)"
   ]
  },
  {
   "cell_type": "code",
   "execution_count": 42,
   "metadata": {},
   "outputs": [],
   "source": [
    "a = (\"P\", \"A\", \"R\", \"T\", \"H\", \"A\", \"V\")\n",
    "\n",
    "del a"
   ]
  },
  {
   "cell_type": "code",
   "execution_count": 44,
   "metadata": {},
   "outputs": [
    {
     "name": "stdout",
     "output_type": "stream",
     "text": [
      "P\n",
      "A\n",
      "R\n",
      "T\n",
      "H\n",
      "A\n",
      "V\n"
     ]
    }
   ],
   "source": [
    "a = (\"P\", \"A\", \"R\", \"T\", \"H\", \"A\", \"V\")\n",
    "\n",
    "for x in a:\n",
    "    print(x)"
   ]
  },
  {
   "cell_type": "code",
   "execution_count": 47,
   "metadata": {},
   "outputs": [
    {
     "name": "stdout",
     "output_type": "stream",
     "text": [
      "P\n",
      "A\n",
      "R\n",
      "T\n",
      "H\n",
      "A\n",
      "V\n"
     ]
    }
   ],
   "source": [
    "a = (\"P\", \"A\", \"R\", \"T\", \"H\", \"A\", \"V\")\n",
    "\n",
    "b = len(a)\n",
    "\n",
    "for x in range(b):\n",
    "    print(a[x])"
   ]
  },
  {
   "cell_type": "markdown",
   "metadata": {},
   "source": [
    "**TUPLE METHODS**\n",
    "\n",
    "- count()\tReturns the number of times a specified value occurs in a tuple\n",
    "- index()\tSearches the tuple for a specified value and returns the position of where it was found"
   ]
  },
  {
   "cell_type": "code",
   "execution_count": 49,
   "metadata": {},
   "outputs": [
    {
     "name": "stdout",
     "output_type": "stream",
     "text": [
      "2\n"
     ]
    }
   ],
   "source": [
    "a = (\"P\", \"A\", \"R\", \"T\", \"H\", \"A\", \"V\")\n",
    "\n",
    "print(a.count(\"A\"))"
   ]
  },
  {
   "cell_type": "code",
   "execution_count": 53,
   "metadata": {},
   "outputs": [
    {
     "name": "stdout",
     "output_type": "stream",
     "text": [
      "1\n"
     ]
    }
   ],
   "source": [
    "a = (\"P\", \"A\", \"R\", \"T\", \"H\", \"A\", \"V\")\n",
    "\n",
    "b = a.index(\"A\")\n",
    "\n",
    "print(b)"
   ]
  },
  {
   "cell_type": "code",
   "execution_count": null,
   "metadata": {},
   "outputs": [],
   "source": []
  }
 ],
 "metadata": {
  "kernelspec": {
   "display_name": ".venv",
   "language": "python",
   "name": "python3"
  },
  "language_info": {
   "codemirror_mode": {
    "name": "ipython",
    "version": 3
   },
   "file_extension": ".py",
   "mimetype": "text/x-python",
   "name": "python",
   "nbconvert_exporter": "python",
   "pygments_lexer": "ipython3",
   "version": "3.13.0"
  }
 },
 "nbformat": 4,
 "nbformat_minor": 2
}

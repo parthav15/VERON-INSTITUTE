{
 "cells": [
  {
   "cell_type": "markdown",
   "metadata": {},
   "source": [
    "**TUPLES IN PYTHON**"
   ]
  },
  {
   "cell_type": "markdown",
   "metadata": {},
   "source": [
    "Tuples are used to store multiple items in a single variable.\n",
    "\n",
    "- Tuple is one of 4 built-in data types in Python used to store collections of data, the other 3 are List, Set, and Dictionary, all with different qualities and usage.\n",
    "\n",
    "- A tuple is a collection which is ordered and unchangeable.\n",
    "\n",
    "- Tuples are written with round brackets."
   ]
  },
  {
   "cell_type": "code",
   "execution_count": 98,
   "metadata": {},
   "outputs": [
    {
     "name": "stdout",
     "output_type": "stream",
     "text": [
      "THIS IS THE TUPLE CREATED BY US: ('P', 'A', 'R', 'T', 'H', 'A', 'V')\n",
      "THIS IS THE TYPE OF THE TUPLE CREATED BY US:  <class 'tuple'>\n"
     ]
    }
   ],
   "source": [
    "a = (\"P\", \"A\", \"R\", \"T\", \"H\", \"A\", \"V\")\n",
    "\n",
    "print(f\"THIS IS THE TUPLE CREATED BY US: {a}\")\n",
    "print(\"THIS IS THE TYPE OF THE TUPLE CREATED BY US: \", type(a))"
   ]
  },
  {
   "cell_type": "markdown",
   "metadata": {},
   "source": [
    "**Tuple Items**\n",
    "\n",
    "- Tuple items are ordered, unchangeable, and allow duplicate values.\n",
    "\n",
    "- Tuple items are indexed, the first item has index [0], the second item has index [1] etc."
   ]
  },
  {
   "cell_type": "markdown",
   "metadata": {},
   "source": [
    "**Ordered**\n",
    "\n",
    "- When we say that tuples are ordered, it means that the items have a defined order, and that order will not change."
   ]
  },
  {
   "cell_type": "markdown",
   "metadata": {},
   "source": [
    "**Unchangeable**\n",
    "\n",
    "- Tuples are unchangeable, meaning that we cannot change, add or remove items after the tuple has been created."
   ]
  },
  {
   "cell_type": "markdown",
   "metadata": {},
   "source": [
    "**Allow Duplicates**\n",
    "\n",
    "- Since tuples are indexed, they can have items with the same value:"
   ]
  },
  {
   "cell_type": "code",
   "execution_count": null,
   "metadata": {},
   "outputs": [],
   "source": [
    "a = (\"P\", \"P\", \"A\", \"R\", \"T\", \"H\", \"A\", \"V\")\n",
    "\n",
    "print(\"THIS IS THE TUPLE CREATED BY US: \", a)\n",
    "print(\"THIS IS THE TYPE OF THE TUPLE CREATED BY US: \", type(a))"
   ]
  },
  {
   "cell_type": "markdown",
   "metadata": {},
   "source": [
    "**Tuple Length**\n",
    "\n",
    "- To determine how many items a tuple has, use the len() function"
   ]
  },
  {
   "cell_type": "code",
   "execution_count": 99,
   "metadata": {},
   "outputs": [
    {
     "name": "stdout",
     "output_type": "stream",
     "text": [
      "THIS IS LENGTH OF THE TUPLE CREATED BY US:  7\n"
     ]
    }
   ],
   "source": [
    "a = (\"P\", \"A\", \"R\", \"T\", \"H\", \"A\", \"V\")\n",
    "\n",
    "print(\"THIS IS LENGTH OF THE TUPLE CREATED BY US: \", len(a))"
   ]
  },
  {
   "cell_type": "code",
   "execution_count": null,
   "metadata": {},
   "outputs": [],
   "source": [
    "tuple1 = (\"apple\", \"banana\", \"cherry\")\n",
    "tuple2 = (1, 5, 7, 9, 3)\n",
    "tuple3 = (True, False, False)\n",
    "\n",
    "print(tuple1)\n",
    "print(tuple2)\n",
    "print(tuple3)"
   ]
  },
  {
   "cell_type": "code",
   "execution_count": 100,
   "metadata": {},
   "outputs": [
    {
     "name": "stdout",
     "output_type": "stream",
     "text": [
      "('abc', 34.4, True, 40, 'male')\n"
     ]
    }
   ],
   "source": [
    "tuple1 = (\"abc\", 34.40, True, 40, \"male\")\n",
    "\n",
    "print(tuple1)"
   ]
  },
  {
   "cell_type": "code",
   "execution_count": 102,
   "metadata": {},
   "outputs": [
    {
     "name": "stdout",
     "output_type": "stream",
     "text": [
      "ELEMENT ON THE FIRST INDEX:  A\n",
      "element on index 0 is: P\n"
     ]
    }
   ],
   "source": [
    "a = (\"P\", \"A\", \"R\", \"T\", \"H\", \"A\", \"V\")\n",
    "\n",
    "print(\"ELEMENT ON THE FIRST INDEX: \", a[1])\n",
    "print(f\"element on index 0 is: {a[0]}\")"
   ]
  },
  {
   "cell_type": "code",
   "execution_count": null,
   "metadata": {},
   "outputs": [],
   "source": [
    "a = (\"P\", \"A\", \"R\", \"T\", \"H\", \"A\", \"V\")\n",
    "\n",
    "print(\"ELEMENT ON THE LAST INDEX (ACCESSED USING NEGATIVE INDEXING): \", a[-1])"
   ]
  },
  {
   "cell_type": "code",
   "execution_count": null,
   "metadata": {},
   "outputs": [],
   "source": [
    "a = (\"P\", \"A\", \"R\", \"T\", \"H\", \"A\", \"V\")\n",
    "\n",
    "print(\"INDEX RANGE: \", a[2:5])"
   ]
  },
  {
   "cell_type": "code",
   "execution_count": null,
   "metadata": {},
   "outputs": [],
   "source": [
    "a = (\"P\", \"A\", \"R\", \"T\", \"H\", \"A\", \"V\")\n",
    "\n",
    "print(\"ELEMENT ON THE 0 INDEX: \", a[0])"
   ]
  },
  {
   "cell_type": "code",
   "execution_count": 111,
   "metadata": {},
   "outputs": [
    {
     "name": "stdout",
     "output_type": "stream",
     "text": [
      "('T', 'H')\n"
     ]
    }
   ],
   "source": [
    "a = (\"P\", \"A\", \"R\", \"T\", \"H\", \"A\", \"V\")\n",
    "\n",
    "print(a[-4:-2])"
   ]
  },
  {
   "cell_type": "code",
   "execution_count": null,
   "metadata": {},
   "outputs": [],
   "source": [
    "a = (\"P\", \"A\", \"R\", \"T\", \"H\", \"A\", \"V\")\n",
    "\n",
    "print(a[::-1])"
   ]
  },
  {
   "cell_type": "code",
   "execution_count": 113,
   "metadata": {},
   "outputs": [
    {
     "name": "stdout",
     "output_type": "stream",
     "text": [
      "Letter P is not present in the tuple a\n"
     ]
    }
   ],
   "source": [
    "a = (\"\", \"A\", \"R\", \"T\", \"H\", \"A\", \"V\")\n",
    "\n",
    "if \"P\" in a:\n",
    "    print(\"Letter P is present in the tuple a\")\n",
    "else:\n",
    "    print(\"Letter P is not present in the tuple a\")"
   ]
  },
  {
   "cell_type": "code",
   "execution_count": 116,
   "metadata": {},
   "outputs": [
    {
     "name": "stdout",
     "output_type": "stream",
     "text": [
      "Error: 'tuple' object does not support item assignment\n",
      "('P', 'A', 'R', 'T', 'H', 'A', 'V')\n"
     ]
    }
   ],
   "source": [
    "a = (\"P\", \"A\", \"R\", \"T\", \"H\", \"A\", \"V\")\n",
    "\n",
    "# b = list(a)\n",
    "\n",
    "# b[1] = 10\n",
    "\n",
    "# a = tuple(b)\n",
    "try:\n",
    "    a[1] = 10\n",
    "except Exception as e:\n",
    "    print(f\"Error: {e}\")\n",
    "\n",
    "print(a)"
   ]
  },
  {
   "cell_type": "code",
   "execution_count": 117,
   "metadata": {},
   "outputs": [
    {
     "name": "stdout",
     "output_type": "stream",
     "text": [
      "('P', 'A', 'R', 'T', 'H', 'A', 'V', ' ', 'S', 'A', 'B', 'R', 'W', 'A', 'L')\n"
     ]
    }
   ],
   "source": [
    "a = (\"P\", \"A\", \"R\", \"T\", \"H\", \"A\", \"V\")\n",
    "\n",
    "b = (\" \", \"S\", \"A\", \"B\", \"R\", \"W\", \"A\", \"L\")\n",
    "\n",
    "a = a + b\n",
    "\n",
    "print(a)"
   ]
  },
  {
   "cell_type": "code",
   "execution_count": 119,
   "metadata": {},
   "outputs": [
    {
     "name": "stdout",
     "output_type": "stream",
     "text": [
      "('P', 'A', 'R', 'T', 'P', 'H', 'A', 'V', 'S')\n"
     ]
    }
   ],
   "source": [
    "a = (\"P\", \"A\", \"R\", \"T\", \"H\", \"A\", \"V\")\n",
    "\n",
    "b = list(a)\n",
    "\n",
    "b.append(\"S\")\n",
    "\n",
    "b.insert(4, \"P\")\n",
    "\n",
    "a = tuple(b)\n",
    "\n",
    "print(a)"
   ]
  },
  {
   "cell_type": "code",
   "execution_count": 121,
   "metadata": {},
   "outputs": [],
   "source": [
    "a = (\"P\", \"A\", \"R\", \"T\", \"H\", \"A\", \"V\")\n",
    "\n",
    "del a\n",
    "\n",
    "try:\n",
    "    print(a)\n",
    "except Exception as e:\n",
    "    pass"
   ]
  },
  {
   "cell_type": "code",
   "execution_count": 123,
   "metadata": {},
   "outputs": [
    {
     "name": "stdout",
     "output_type": "stream",
     "text": [
      "P\n",
      "A\n",
      "R\n",
      "T\n",
      "H\n",
      "A\n",
      "V\n",
      "Veron\n",
      "parthav\n",
      "team\n"
     ]
    }
   ],
   "source": [
    "a = (\"P\", \"A\", \"R\", \"T\", \"H\", \"A\", \"V\")\n",
    "b = (\"Veron\", \"parthav\", \"team\")\n",
    "\n",
    "for x in a:\n",
    "    print(x)\n",
    "\n",
    "for y in b:\n",
    "    print(y)\n",
    "\n",
    "# users_list = users.objets.all()\n",
    "\n",
    "# return render(\"templates/users_list.html\", users_list)"
   ]
  },
  {
   "cell_type": "code",
   "execution_count": 125,
   "metadata": {},
   "outputs": [
    {
     "name": "stdout",
     "output_type": "stream",
     "text": [
      "P\n",
      "A\n",
      "R\n",
      "T\n",
      "H\n",
      "A\n",
      "V\n"
     ]
    }
   ],
   "source": [
    "a = (\"P\", \"A\", \"R\", \"T\", \"H\", \"A\", \"V\")\n",
    "\n",
    "b = len(a)\n",
    "\n",
    "for x in range(b):\n",
    "    print(a[x])"
   ]
  },
  {
   "cell_type": "markdown",
   "metadata": {},
   "source": [
    "**TUPLE METHODS**\n",
    "\n",
    "- count()\tReturns the number of times a specified value occurs in a tuple\n",
    "- index()\tSearches the tuple for a specified value and returns the position of where it was found"
   ]
  },
  {
   "cell_type": "code",
   "execution_count": 126,
   "metadata": {},
   "outputs": [
    {
     "name": "stdout",
     "output_type": "stream",
     "text": [
      "2\n"
     ]
    }
   ],
   "source": [
    "a = (\"P\", \"A\", \"R\", \"T\", \"H\", \"A\", \"V\")\n",
    "\n",
    "print(a.count(\"A\"))"
   ]
  },
  {
   "cell_type": "code",
   "execution_count": 130,
   "metadata": {},
   "outputs": [
    {
     "name": "stdout",
     "output_type": "stream",
     "text": [
      "5\n"
     ]
    }
   ],
   "source": [
    "a = (\"P\", \"A\", \"R\", \"T\", \"H\", \"A\", \"V\")\n",
    "\n",
    "b = a.index(\"A\", 2)\n",
    "\n",
    "print(b)"
   ]
  },
  {
   "cell_type": "markdown",
   "metadata": {},
   "source": [
    "**Set**\n",
    "- Sets are used to store multiple items in a single variable.\n",
    "\n",
    "- Set is one of 4 built-in data types in Python used to store collections of data, the other 3 are List, Tuple, and Dictionary, all with different qualities and usage.\n",
    "\n",
    "- A set is a collection which is unordered, unchangeable*, and unindexed."
   ]
  },
  {
   "cell_type": "code",
   "execution_count": null,
   "metadata": {},
   "outputs": [],
   "source": [
    "a = {\"Parthav\", \"Simran\", \"Veron\", \"Institute\"}\n",
    "\n",
    "print(\"THIS IS THE SET A: \", a)\n",
    "\n",
    "print(\"THIS IS THE TYPE OF THE SET A: \", type(a))"
   ]
  },
  {
   "cell_type": "code",
   "execution_count": null,
   "metadata": {},
   "outputs": [],
   "source": [
    "a = {\"Parthav\", \"Simran\", \"Veron\", \"Institute\", \"Parthav\"}\n",
    "\n",
    "print(a)"
   ]
  },
  {
   "cell_type": "code",
   "execution_count": null,
   "metadata": {},
   "outputs": [],
   "source": [
    "a = {\"Parthav\", \"Simran\", \"Veron\", \"Institute\", \"Parthav\", True, 1}\n",
    "\n",
    "print(a)"
   ]
  },
  {
   "cell_type": "code",
   "execution_count": null,
   "metadata": {},
   "outputs": [],
   "source": [
    "a = {\"Parthav\", \"Simran\", \"Veron\", \"Institute\", \"Parthav\", False, 0}\n",
    "\n",
    "print(a)"
   ]
  },
  {
   "cell_type": "code",
   "execution_count": null,
   "metadata": {},
   "outputs": [],
   "source": [
    "a = {\"Parthav\", \"Simran\", \"Veron\", \"Institute\", \"Parthav\"}\n",
    "\n",
    "print(len(a))"
   ]
  },
  {
   "cell_type": "code",
   "execution_count": null,
   "metadata": {},
   "outputs": [],
   "source": [
    "a = {\"Parthav\", \"Simran\", \"Veron\", \"Institute\", \"Parthav\"}\n",
    "\n",
    "b = {True, False}\n",
    "\n",
    "c = {1, 2, 3, 4, 5, 6}\n",
    "\n",
    "print(a, b, c)"
   ]
  },
  {
   "cell_type": "code",
   "execution_count": null,
   "metadata": {},
   "outputs": [],
   "source": [
    "a = {\"Parthav\", \"Simran\", True, 1, 1.4, False, 10, 20, 30.4}\n",
    "\n",
    "print(a)"
   ]
  },
  {
   "cell_type": "code",
   "execution_count": null,
   "metadata": {},
   "outputs": [],
   "source": [
    "a = {\"Parthav\", \"Simran\", \"Veron\", \"Institute\", \"Parthav\"}\n",
    "\n",
    "for x in a:\n",
    "    print(x)"
   ]
  },
  {
   "cell_type": "code",
   "execution_count": null,
   "metadata": {},
   "outputs": [],
   "source": [
    "a = {\"Parthav\", \"Simran\", \"Veron\", \"Institute\", \"Parthav\"}\n",
    "\n",
    "print(\"Parthav\" in a)"
   ]
  },
  {
   "cell_type": "code",
   "execution_count": null,
   "metadata": {},
   "outputs": [],
   "source": [
    "a = {\"Parthav\", \"Simran\", \"Veron\", \"Institute\", \"Parthav\"}\n",
    "\n",
    "print(\"Parthav\" not in a)"
   ]
  },
  {
   "cell_type": "code",
   "execution_count": null,
   "metadata": {},
   "outputs": [],
   "source": [
    "a = {\"Parthav\", \"Simran\", \"Veron\", \"Institute\", \"Parthav\"}\n",
    "\n",
    "a.add(\"Team\")\n",
    "\n",
    "print(a)"
   ]
  },
  {
   "cell_type": "code",
   "execution_count": null,
   "metadata": {},
   "outputs": [],
   "source": [
    "a = {\"Parthav\", \"Simran\", \"Veron\", \"Institute\", \"Parthav\"}\n",
    "\n",
    "c = {1, 2, 3, 4, 5, 6}\n",
    "\n",
    "a.update(c)\n",
    "\n",
    "print(a)"
   ]
  },
  {
   "cell_type": "code",
   "execution_count": null,
   "metadata": {},
   "outputs": [],
   "source": [
    "a = {1, 2, 3, 4, 5, 6}\n",
    "\n",
    "b = (\"Parthav\", \"Simran\", \"Veron\", \"Institute\", \"Parthav\")\n",
    "\n",
    "a.update(b)\n",
    "\n",
    "print(a)"
   ]
  },
  {
   "cell_type": "code",
   "execution_count": null,
   "metadata": {},
   "outputs": [],
   "source": [
    "a = {\"Parthav\", \"Simran\", \"Veron\", \"Institute\", \"Parthav\"}\n",
    "\n",
    "a.remove(\"Parthav\")\n",
    "\n",
    "print(a)"
   ]
  },
  {
   "cell_type": "code",
   "execution_count": null,
   "metadata": {},
   "outputs": [],
   "source": [
    "a = {\"Parthav\", \"Simran\", \"Veron\", \"Institute\", \"Parthav\"}\n",
    "\n",
    "a.discard(\"Parthav\")\n",
    "\n",
    "print(a)"
   ]
  },
  {
   "cell_type": "code",
   "execution_count": null,
   "metadata": {},
   "outputs": [],
   "source": [
    "a = {\"Parthav\", \"Simran\", \"Veron\", \"Institute\", \"Parthav\"}\n",
    "\n",
    "a.pop()\n",
    "\n",
    "print(a)"
   ]
  },
  {
   "cell_type": "code",
   "execution_count": null,
   "metadata": {},
   "outputs": [],
   "source": [
    "a = {\"Parthav\", \"Simran\", \"Veron\", \"Institute\", \"Parthav\"}\n",
    "\n",
    "a.clear()\n",
    "\n",
    "print(a)"
   ]
  },
  {
   "cell_type": "code",
   "execution_count": null,
   "metadata": {},
   "outputs": [],
   "source": [
    "a = {\"Parthav\", \"Simran\", \"Veron\", \"Institute\", \"Parthav\"}\n",
    "\n",
    "del a"
   ]
  },
  {
   "cell_type": "code",
   "execution_count": null,
   "metadata": {},
   "outputs": [],
   "source": [
    "a = {\"Parthav\", \"Simran\", \"Veron\", \"Institute\", \"Parthav\"}\n",
    "\n",
    "b = {1, 2, 3, 4, 5, 6}\n",
    "\n",
    "c = a.union(b)\n",
    "\n",
    "print(c)"
   ]
  },
  {
   "cell_type": "code",
   "execution_count": null,
   "metadata": {},
   "outputs": [],
   "source": [
    "a = {\"Parthav\", \"Simran\", \"Veron\", \"Institute\", \"Kangana\"}\n",
    "\n",
    "b = {\"Abhay\", \"Kanika\", \"Randeep\", \"Kartik\", \"Samreet\", \"Parthav\"}\n",
    "\n",
    "c = a.intersection(b)\n",
    "\n",
    "print(c)"
   ]
  },
  {
   "cell_type": "code",
   "execution_count": null,
   "metadata": {},
   "outputs": [],
   "source": [
    "a = {\"Parthav\", \"Simran\", \"Veron\", \"Institute\", \"Kangana\"}\n",
    "\n",
    "b = {\"Abhay\", \"Kanika\", \"Randeep\", \"Kartik\", \"Samreet\", \"Parthav\"}\n",
    "\n",
    "a.intersection_update(b)\n",
    "\n",
    "print(a)"
   ]
  },
  {
   "cell_type": "code",
   "execution_count": null,
   "metadata": {},
   "outputs": [],
   "source": [
    "a = {\"Parthav\", \"Simran\", \"Veron\", \"Institute\", \"Kangana\"}\n",
    "\n",
    "b = {\"Abhay\", \"Kanika\", \"Randeep\", \"Kartik\", \"Samreet\", \"Parthav\"}\n",
    "\n",
    "c = a.difference(b)\n",
    "\n",
    "print(c)"
   ]
  },
  {
   "cell_type": "code",
   "execution_count": null,
   "metadata": {},
   "outputs": [],
   "source": [
    "a = {\"Parthav\", \"Simran\", \"Veron\", \"Institute\", \"Kangana\"}\n",
    "\n",
    "b = {\"Abhay\", \"Kanika\", \"Randeep\", \"Kartik\", \"Samreet\", \"Parthav\"}\n",
    "\n",
    "a.difference_update(b)\n",
    "\n",
    "print(a)"
   ]
  },
  {
   "cell_type": "code",
   "execution_count": null,
   "metadata": {},
   "outputs": [],
   "source": [
    "a = {\"Parthav\", \"Simran\", \"Veron\", \"Institute\", \"Kangana\"}\n",
    "\n",
    "b = {\"Abhay\", \"Kanika\", \"Randeep\", \"Kartik\", \"Samreet\", \"Parthav\"}\n",
    "\n",
    "c = a.symmetric_difference(b)\n",
    "\n",
    "print(c)"
   ]
  },
  {
   "cell_type": "code",
   "execution_count": null,
   "metadata": {},
   "outputs": [],
   "source": [
    "a = {\"Parthav\", \"Simran\", \"Veron\", \"Institute\", \"Kangana\"}\n",
    "\n",
    "b = {\"Abhay\", \"Kanika\", \"Randeep\", \"Kartik\", \"Samreet\", \"Parthav\"}\n",
    "\n",
    "a.symmetric_difference_update(b)\n",
    "\n",
    "print(a)"
   ]
  },
  {
   "cell_type": "code",
   "execution_count": 94,
   "metadata": {},
   "outputs": [],
   "source": [
    "\n",
    "# Method\tShortcut\tDescription\n",
    "# add()\t \tAdds an element to the set\n",
    "# clear()\t \tRemoves all the elements from the set\n",
    "# copy()\t \tReturns a copy of the set\n",
    "# difference()\t-\tReturns a set containing the difference between two or more sets\n",
    "# difference_update()\t-=\tRemoves the items in this set that are also included in another, specified set\n",
    "# discard()\t \tRemove the specified item\n",
    "# intersection()\t&\tReturns a set, that is the intersection of two other sets\n",
    "# intersection_update()\t&=\tRemoves the items in this set that are not present in other, specified set(s)\n",
    "# isdisjoint()\t \tReturns whether two sets have a intersection or not\n",
    "# issubset()\t<=\tReturns whether another set contains this set or not\n",
    "#  \t<\tReturns whether all items in this set is present in other, specified set(s)\n",
    "# issuperset()\t>=\tReturns whether this set contains another set or not\n",
    "#  \t>\tReturns whether all items in other, specified set(s) is present in this set\n",
    "# pop()\t \tRemoves an element from the set\n",
    "# remove()\t \tRemoves the specified element\n",
    "# symmetric_difference()\t^\tReturns a set with the symmetric differences of two sets\n",
    "# symmetric_difference_update()\t^=\tInserts the symmetric differences from this set and another\n",
    "# union()\t|\tReturn a set containing the union of sets\n",
    "# update()\t|=\tUpdate the set with the union of this set and others"
   ]
  },
  {
   "cell_type": "code",
   "execution_count": null,
   "metadata": {},
   "outputs": [],
   "source": []
  }
 ],
 "metadata": {
  "kernelspec": {
   "display_name": ".venv",
   "language": "python",
   "name": "python3"
  },
  "language_info": {
   "codemirror_mode": {
    "name": "ipython",
    "version": 3
   },
   "file_extension": ".py",
   "mimetype": "text/x-python",
   "name": "python",
   "nbconvert_exporter": "python",
   "pygments_lexer": "ipython3",
   "version": "3.13.0"
  }
 },
 "nbformat": 4,
 "nbformat_minor": 2
}

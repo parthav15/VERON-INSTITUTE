{
  "nbformat": 4,
  "nbformat_minor": 0,
  "metadata": {
    "colab": {
      "provenance": []
    },
    "kernelspec": {
      "name": "python3",
      "display_name": "Python 3"
    },
    "language_info": {
      "name": "python"
    }
  },
  "cells": [
    {
      "cell_type": "markdown",
      "source": [
        "**LIST DEFINITION, IT'S USES AND FUNCTIONS**"
      ],
      "metadata": {
        "id": "elfx_GA7YFmT"
      }
    },
    {
      "cell_type": "code",
      "execution_count": null,
      "metadata": {
        "id": "PGGb9t6wX_me"
      },
      "outputs": [],
      "source": [
        "# Lists are used to store multiple items in a single variable.\n",
        "\n",
        "# Lists are one of 4 built-in data types in Python used to store collections of data,\n",
        "# the other 3 are Tuple, Set, and Dictionary, all with different qualities and usage.\n",
        "\n",
        "# Lists are created using square brackets:"
      ]
    },
    {
      "cell_type": "code",
      "source": [
        "a = [\"Abhay\", \"Kanika\", \"Kangana\", \"Sudhir\", \"Kartik\", \"Mamta\"]\n",
        "a = [1, 1.9, \"Mamta\", \"Parthav\"]\n",
        "print(a)\n",
        "print(type(a))"
      ],
      "metadata": {
        "colab": {
          "base_uri": "https://localhost:8080/"
        },
        "id": "L6CL8ZU6Yfjv",
        "outputId": "9b4d3e9f-0269-465f-e0f4-1260e6761c4e"
      },
      "execution_count": null,
      "outputs": [
        {
          "output_type": "stream",
          "name": "stdout",
          "text": [
            "[1, 1.9, 'Mamta', 'Parthav']\n",
            "<class 'list'>\n"
          ]
        }
      ]
    },
    {
      "cell_type": "code",
      "source": [
        "\"\"\"\n",
        "Lists are Ordered, It means that the items have a defined order, and that order will not change.\n",
        "If you add new items to a list, the new items will be placed at the end of the list.\n",
        "\n",
        "Lists allow duplicate values, also Lists are immutable\n",
        "\"\"\"\n",
        "a = [\"P\", \"A\", \"R\", \"T\", \"H\", \"A\", \"V\"]\n",
        "\n",
        "print(a[2])"
      ],
      "metadata": {
        "colab": {
          "base_uri": "https://localhost:8080/"
        },
        "id": "hIEte5dPYq8w",
        "outputId": "02d4500c-6ae9-486d-93c8-6a6ca648074f"
      },
      "execution_count": null,
      "outputs": [
        {
          "output_type": "stream",
          "name": "stdout",
          "text": [
            "R\n"
          ]
        }
      ]
    },
    {
      "cell_type": "code",
      "source": [
        "a = [\"V\", \"E\", \"R\", \"O\", \"N\"]\n",
        "b = [1, 5, 7, 9, 3]\n",
        "c = [True, False, False]\n",
        "\n",
        "print(a)\n",
        "print(b)\n",
        "print(c)"
      ],
      "metadata": {
        "colab": {
          "base_uri": "https://localhost:8080/"
        },
        "id": "0_ZiVRGgZbb_",
        "outputId": "37055f90-3041-42cc-d605-143d383142fe"
      },
      "execution_count": null,
      "outputs": [
        {
          "output_type": "stream",
          "name": "stdout",
          "text": [
            "['V', 'E', 'R', 'O', 'N']\n",
            "[1, 5, 7, 9, 3]\n",
            "[True, False, False]\n"
          ]
        }
      ]
    },
    {
      "cell_type": "code",
      "source": [
        "a = [\"V\", \"E\", \"R\", \"O\", \"N\"]\n",
        "\n",
        "print(type(a))"
      ],
      "metadata": {
        "colab": {
          "base_uri": "https://localhost:8080/"
        },
        "id": "qn5E51g2Z0GZ",
        "outputId": "f51e7172-e2d3-442c-bbae-06829f567a2d"
      },
      "execution_count": null,
      "outputs": [
        {
          "output_type": "stream",
          "name": "stdout",
          "text": [
            "<class 'list'>\n"
          ]
        }
      ]
    },
    {
      "cell_type": "code",
      "source": [
        "a = [\"V\", \"E\", \"R\", \"O\", \"N\"]\n",
        "\n",
        "print(a[1])"
      ],
      "metadata": {
        "colab": {
          "base_uri": "https://localhost:8080/"
        },
        "id": "4X_17dLSaCkF",
        "outputId": "f2554803-18cf-4746-84f7-f76ff8137084"
      },
      "execution_count": null,
      "outputs": [
        {
          "output_type": "stream",
          "name": "stdout",
          "text": [
            "E\n"
          ]
        }
      ]
    },
    {
      "cell_type": "code",
      "source": [
        "a = [\"V\", \"E\", \"R\", \"O\", \"N\"]\n",
        "\n",
        "print(a[-3])"
      ],
      "metadata": {
        "colab": {
          "base_uri": "https://localhost:8080/"
        },
        "id": "xGw9wB8ma6Bz",
        "outputId": "7546c65d-6192-4dcc-a5e0-c0dd32df9787"
      },
      "execution_count": null,
      "outputs": [
        {
          "output_type": "stream",
          "name": "stdout",
          "text": [
            "R\n"
          ]
        }
      ]
    },
    {
      "cell_type": "code",
      "source": [
        "a = [\"V\", \"E\", \"R\", \"O\", \"N\"]\n",
        "\n",
        "print(a[1:4])"
      ],
      "metadata": {
        "colab": {
          "base_uri": "https://localhost:8080/"
        },
        "id": "lDKn49mabVwF",
        "outputId": "510f19d3-54e1-494f-cb10-0f218a397aab"
      },
      "execution_count": null,
      "outputs": [
        {
          "output_type": "stream",
          "name": "stdout",
          "text": [
            "['E', 'R', 'O']\n"
          ]
        }
      ]
    },
    {
      "cell_type": "code",
      "source": [
        "a = [\"V\", \"E\", \"R\", \"O\", \"N\", \" \", \"T\", \"E\", \"A\", \"M\"]\n",
        "\n",
        "print(a[:])"
      ],
      "metadata": {
        "colab": {
          "base_uri": "https://localhost:8080/"
        },
        "id": "6xp9GJWLbYJs",
        "outputId": "a93d0cc8-a351-4fbb-c4f6-f4eae2ca0ce0"
      },
      "execution_count": null,
      "outputs": [
        {
          "output_type": "stream",
          "name": "stdout",
          "text": [
            "['M', 'A', 'E', 'T', ' ', 'N', 'O', 'R', 'E', 'V']\n"
          ]
        }
      ]
    },
    {
      "cell_type": "code",
      "source": [
        "a = [\"V\", \"E\", \"R\", \"O\", \"N\", \" \", \"T\", \"E\", \"A\", \"M\"]\n",
        "\n",
        "print(a[-4:-1])"
      ],
      "metadata": {
        "colab": {
          "base_uri": "https://localhost:8080/"
        },
        "id": "ZGAs8GFZboEJ",
        "outputId": "f40a50a2-8f4f-4187-e054-810d37199a6c"
      },
      "execution_count": null,
      "outputs": [
        {
          "output_type": "stream",
          "name": "stdout",
          "text": [
            "['T', 'E', 'A']\n"
          ]
        }
      ]
    },
    {
      "cell_type": "code",
      "source": [
        "a = [\"V\", \"E\", \"R\", \"O\", \"N\", \" \", \"T\", \"E\", \"A\", \"M\"]\n",
        "\n",
        "if \"z\" in a:\n",
        "  print(\"V is Present in the List\")\n",
        "else:\n",
        "  print(\"V is not Present in the List\")"
      ],
      "metadata": {
        "colab": {
          "base_uri": "https://localhost:8080/"
        },
        "id": "wUH8PWnbb8xS",
        "outputId": "75392a5d-2752-402f-e07f-1a75d11e6a99"
      },
      "execution_count": null,
      "outputs": [
        {
          "output_type": "stream",
          "name": "stdout",
          "text": [
            "V is not Present in the List\n"
          ]
        }
      ]
    },
    {
      "cell_type": "code",
      "source": [
        "a = [\"V\", \"E\", \"R\", \"O\", \"N\", \" \", \"T\", \"E\", \"A\", \"M\"]\n",
        "\n",
        "a[5] = \"And\"\n",
        "\n",
        "print(a)"
      ],
      "metadata": {
        "colab": {
          "base_uri": "https://localhost:8080/"
        },
        "id": "-JwJ9KeXcCjF",
        "outputId": "8f0ddac6-c001-4608-e1c1-ba4b47e4816a"
      },
      "execution_count": null,
      "outputs": [
        {
          "output_type": "stream",
          "name": "stdout",
          "text": [
            "['V', 'E', 'R', 'O', 'N', 'And', 'T', 'E', 'A', 'M']\n"
          ]
        }
      ]
    },
    {
      "cell_type": "code",
      "source": [
        "A = [\"P\", \"A\", \"R\", \"T\", \"H\", \"A\", \"V\"]\n",
        "\n",
        "A[1:4] = [\"a\", \"r\", \"t\"]\n",
        "\n",
        "print(A)"
      ],
      "metadata": {
        "colab": {
          "base_uri": "https://localhost:8080/"
        },
        "id": "LwU-ZGZqcWhX",
        "outputId": "3dd6c564-dd48-4f44-97b2-c957dbba55ea"
      },
      "execution_count": null,
      "outputs": [
        {
          "output_type": "stream",
          "name": "stdout",
          "text": [
            "['P', 'a', 'r', 't', 'H', 'A', 'V']\n"
          ]
        }
      ]
    },
    {
      "cell_type": "code",
      "source": [
        "a = [\"a\", \"b\", \"c\"]\n",
        "a.insert(3, \"d\")\n",
        "print(a)"
      ],
      "metadata": {
        "colab": {
          "base_uri": "https://localhost:8080/"
        },
        "id": "0WFphVBzchh7",
        "outputId": "e886e9b2-138f-425a-ee73-0b35bde3fec4"
      },
      "execution_count": null,
      "outputs": [
        {
          "output_type": "stream",
          "name": "stdout",
          "text": [
            "['a', 'b', 'c', 'd']\n"
          ]
        }
      ]
    },
    {
      "cell_type": "code",
      "source": [
        "a = [\"a\", \"b\", \"c\"]\n",
        "a.append(\"d\")\n",
        "print(a)"
      ],
      "metadata": {
        "colab": {
          "base_uri": "https://localhost:8080/"
        },
        "id": "Rl-QLnwsdVu4",
        "outputId": "0f8cade8-6b9e-475c-e6a8-ec7807d381b1"
      },
      "execution_count": null,
      "outputs": [
        {
          "output_type": "stream",
          "name": "stdout",
          "text": [
            "['a', 'b', 'c', 'd']\n"
          ]
        }
      ]
    },
    {
      "cell_type": "code",
      "source": [
        "a = [\"apple\", \"banana\", \"cherry\"]\n",
        "b = [\"mango\", \"pineapple\", \"papaya\"]\n",
        "c = a + b\n",
        "a.extend(b)\n",
        "print(a)\n",
        "print(f\"Combined List is: {c}\")"
      ],
      "metadata": {
        "colab": {
          "base_uri": "https://localhost:8080/"
        },
        "id": "SA5FybLZdm5z",
        "outputId": "6030984f-e900-4313-f036-d5f01eb5ecb2"
      },
      "execution_count": null,
      "outputs": [
        {
          "output_type": "stream",
          "name": "stdout",
          "text": [
            "['apple', 'banana', 'cherry', 'mango', 'pineapple', 'papaya']\n",
            "Combined List is: ['apple', 'banana', 'cherry', 'mango', 'pineapple', 'papaya']\n"
          ]
        }
      ]
    },
    {
      "cell_type": "code",
      "source": [
        "a = [\"a\", \"b\", \"c\", \"d\"]\n",
        "\n",
        "a.remove(\"b\")\n",
        "\n",
        "print(a)"
      ],
      "metadata": {
        "colab": {
          "base_uri": "https://localhost:8080/"
        },
        "id": "RtmTuFUSdzwz",
        "outputId": "9fc470b3-5b69-4dcc-85d0-d4d52055105e"
      },
      "execution_count": null,
      "outputs": [
        {
          "output_type": "stream",
          "name": "stdout",
          "text": [
            "['a', 'c', 'd']\n"
          ]
        }
      ]
    },
    {
      "cell_type": "code",
      "source": [
        "a = [\"a\", \"b\", \"c\", \"d\"]\n",
        "\n",
        "a.pop()\n",
        "\n",
        "print(a)"
      ],
      "metadata": {
        "colab": {
          "base_uri": "https://localhost:8080/"
        },
        "id": "6YiwEZZYeRBN",
        "outputId": "3cc5c4fd-79e1-42b8-b80f-48d6b51ec44b"
      },
      "execution_count": null,
      "outputs": [
        {
          "output_type": "stream",
          "name": "stdout",
          "text": [
            "['a', 'b', 'c']\n"
          ]
        }
      ]
    },
    {
      "cell_type": "code",
      "source": [
        "a = [\"P\", \"A\", \"R\", \"T\", \"H\", \"A\", \"V\"]\n",
        "\n",
        "a.clear()\n",
        "\n",
        "print(a)\n",
        "print(type(a))"
      ],
      "metadata": {
        "id": "qIBsnJTbfR9-",
        "colab": {
          "base_uri": "https://localhost:8080/"
        },
        "outputId": "ef9450cd-6aa8-4ca4-b917-4137618aa987"
      },
      "execution_count": null,
      "outputs": [
        {
          "output_type": "stream",
          "name": "stdout",
          "text": [
            "[]\n",
            "<class 'list'>\n"
          ]
        }
      ]
    },
    {
      "cell_type": "code",
      "source": [
        "a = [\"P\", \"A\", \"R\", \"T\", \"H\", \"A\", \"V\"]\n",
        "print(len(a))\n",
        "for x in range(len(a)):\n",
        "  print(x)\n",
        "\n",
        "for x in a:\n",
        "  print(x)\n",
        "\n",
        "for x in range(6):\n",
        "  print(x)"
      ],
      "metadata": {
        "colab": {
          "base_uri": "https://localhost:8080/"
        },
        "id": "6I0BU8ELfqjw",
        "outputId": "a30a9f8b-2765-4652-d04c-ac67ef497e5b"
      },
      "execution_count": null,
      "outputs": [
        {
          "output_type": "stream",
          "name": "stdout",
          "text": [
            "7\n",
            "0\n",
            "1\n",
            "2\n",
            "3\n",
            "4\n",
            "5\n",
            "6\n",
            "P\n",
            "A\n",
            "R\n",
            "T\n",
            "H\n",
            "A\n",
            "V\n",
            "0\n",
            "1\n",
            "2\n",
            "3\n",
            "4\n",
            "5\n"
          ]
        }
      ]
    },
    {
      "cell_type": "code",
      "source": [
        "a = [\"V\", \"E\", \"R\", \"O\", \"N\", \" \", \"T\", \"E\", \"A\", \"M\"]\n",
        "for i in range(len(a)):\n",
        "  print(i)\n",
        "  print(a[i])"
      ],
      "metadata": {
        "colab": {
          "base_uri": "https://localhost:8080/"
        },
        "id": "jiRS-nMCgpVv",
        "outputId": "2581ec5a-7e6d-4e65-f47f-39261e71d9d8"
      },
      "execution_count": null,
      "outputs": [
        {
          "output_type": "stream",
          "name": "stdout",
          "text": [
            "0\n",
            "V\n",
            "1\n",
            "E\n",
            "2\n",
            "R\n",
            "3\n",
            "O\n",
            "4\n",
            "N\n",
            "5\n",
            " \n",
            "6\n",
            "T\n",
            "7\n",
            "E\n",
            "8\n",
            "A\n",
            "9\n",
            "M\n"
          ]
        }
      ]
    },
    {
      "cell_type": "markdown",
      "source": [
        "**LIST COMPREHENSIONS**"
      ],
      "metadata": {
        "id": "zfzcipAF4bdX"
      }
    },
    {
      "cell_type": "code",
      "source": [
        "a = [\"Veron\", \"Engineering\", \"Railway\", \"On\", \"Now\", \" \", \"Tata\", \"Ear\", \"Arm\", \"Man\"]\n",
        "newlist = []\n",
        "\n",
        "for x in a:\n",
        "  if \"a\" in x:\n",
        "    newlist.append(x)\n",
        "\n",
        "print(newlist)"
      ],
      "metadata": {
        "colab": {
          "base_uri": "https://localhost:8080/"
        },
        "id": "ARM7jswTgzfS",
        "outputId": "510009c7-ed40-41f2-f89b-4c09d00c47f9"
      },
      "execution_count": null,
      "outputs": [
        {
          "output_type": "stream",
          "name": "stdout",
          "text": [
            "['Railway', 'Tata', 'Ear', 'Man']\n"
          ]
        }
      ]
    },
    {
      "cell_type": "code",
      "source": [
        "a = [\"Veron\", \"Engineering\", \"Railway\", \"On\", \"Now\", \" \", \"Tata\", \"Ear\", \"Arm\", \"Man\"]\n",
        "\n",
        "newlist = [x for x in a if \"a\" in x]\n",
        "\n",
        "print(newlist)"
      ],
      "metadata": {
        "colab": {
          "base_uri": "https://localhost:8080/"
        },
        "id": "Jf0XF_P2iLCC",
        "outputId": "efa31f4b-e1cd-4ffd-e046-331f7018a8f0"
      },
      "execution_count": null,
      "outputs": [
        {
          "output_type": "stream",
          "name": "stdout",
          "text": [
            "['Railway', 'Tata', 'Ear', 'Man']\n"
          ]
        }
      ]
    },
    {
      "cell_type": "code",
      "source": [
        "a = [\"Veron\", \"Engineering\", \"Railway\", \"On\", \"Now\", \" \", \"Tata\", \"Ear\", \"Arm\", \"Man\"]\n",
        "\n",
        "newlist = [x for x in a if x != \"Now\"]\n",
        "\n",
        "print(newlist)"
      ],
      "metadata": {
        "colab": {
          "base_uri": "https://localhost:8080/"
        },
        "id": "X6Yt2PDGiOYS",
        "outputId": "4fafe9e4-2d48-40ca-9de1-0d70d9b77199"
      },
      "execution_count": null,
      "outputs": [
        {
          "output_type": "stream",
          "name": "stdout",
          "text": [
            "['Veron', 'Engineering', 'Railway', 'On', ' ', 'Tata', 'Ear', 'Arm', 'Man']\n"
          ]
        }
      ]
    },
    {
      "cell_type": "code",
      "source": [
        "a = [\"9\", \"5\", \"6\", \"8\", \"1\"]\n",
        "a.sort()\n",
        "print(a)\n",
        "\n",
        "# bubble sort\n",
        "\n",
        "# merge sort"
      ],
      "metadata": {
        "colab": {
          "base_uri": "https://localhost:8080/"
        },
        "id": "lUBVUD04ipUY",
        "outputId": "7c8e107b-f138-4c8f-9ded-57fc5b45cce6"
      },
      "execution_count": null,
      "outputs": [
        {
          "output_type": "stream",
          "name": "stdout",
          "text": [
            "['1', '5', '6', '8', '9']\n"
          ]
        }
      ]
    },
    {
      "cell_type": "code",
      "source": [
        "a = [\"9\", \"5\", \"6\", \"8\", \"1\"]\n",
        "a.sort(reverse=True)\n",
        "print(a)"
      ],
      "metadata": {
        "colab": {
          "base_uri": "https://localhost:8080/"
        },
        "id": "AWgaayzijvL1",
        "outputId": "2525ad63-f6e7-4aaf-9bfc-d032303630ee"
      },
      "execution_count": null,
      "outputs": [
        {
          "output_type": "stream",
          "name": "stdout",
          "text": [
            "['9', '8', '6', '5', '1']\n"
          ]
        }
      ]
    },
    {
      "cell_type": "code",
      "source": [
        "thislist = [\"banana\", \"Orange\", \"Kiwi\", \"cherry\"]\n",
        "thislist.sort()\n",
        "print(thislist)"
      ],
      "metadata": {
        "colab": {
          "base_uri": "https://localhost:8080/"
        },
        "id": "bI9rJ471kbDO",
        "outputId": "b70926a4-31ac-45f1-b1fa-3affb7524b25"
      },
      "execution_count": null,
      "outputs": [
        {
          "output_type": "stream",
          "name": "stdout",
          "text": [
            "['Kiwi', 'Orange', 'banana', 'cherry']\n"
          ]
        }
      ]
    },
    {
      "cell_type": "code",
      "source": [
        "thislist = [\"banana\", \"Orange\", \"Kiwi\", \"cherry\"]\n",
        "thislist.sort(key = str.lower)\n",
        "print(thislist)"
      ],
      "metadata": {
        "colab": {
          "base_uri": "https://localhost:8080/"
        },
        "id": "ZrT8gck2k6ad",
        "outputId": "07769b75-bb88-4f24-eeef-0263b3143762"
      },
      "execution_count": null,
      "outputs": [
        {
          "output_type": "stream",
          "name": "stdout",
          "text": [
            "['banana', 'cherry', 'Kiwi', 'Orange']\n"
          ]
        }
      ]
    },
    {
      "cell_type": "code",
      "source": [
        "thislist = [\"banana\", \"Orange\", \"Kiwi\", \"cherry\"]\n",
        "thislist.reverse()\n",
        "print(thislist)"
      ],
      "metadata": {
        "colab": {
          "base_uri": "https://localhost:8080/"
        },
        "id": "3LLYDvtUlAOH",
        "outputId": "a7382719-da07-4b33-fb1c-b24613103b77"
      },
      "execution_count": null,
      "outputs": [
        {
          "output_type": "stream",
          "name": "stdout",
          "text": [
            "['cherry', 'Kiwi', 'Orange', 'banana']\n"
          ]
        }
      ]
    },
    {
      "cell_type": "code",
      "source": [
        "a = [1, 2, 3, 4, 5]\n",
        "b = []\n",
        "\n",
        "for x in a:\n",
        "    b.insert(0, x)\n",
        "\n",
        "print(b)"
      ],
      "metadata": {
        "colab": {
          "base_uri": "https://localhost:8080/"
        },
        "id": "OfXdNO40lGBi",
        "outputId": "dc8d07f6-c786-48ca-a9b9-5b4da58cc240"
      },
      "execution_count": null,
      "outputs": [
        {
          "output_type": "stream",
          "name": "stdout",
          "text": [
            "[5, 4, 3, 2, 1]\n"
          ]
        }
      ]
    },
    {
      "cell_type": "code",
      "source": [
        "a = [\"V\", \"E\", \"R\", \"O\", \"N\", \" \", \"T\", \"E\", \"A\", \"M\"]\n",
        "\n",
        "b = a.copy()\n",
        "\n",
        "print(f\"This is the list - a: {a}\")\n",
        "print(f\"This is the list - b: {b}\")"
      ],
      "metadata": {
        "colab": {
          "base_uri": "https://localhost:8080/"
        },
        "id": "bl1DWjyblfKG",
        "outputId": "b7c06d4d-0ffe-4e6b-9759-ec33c7b0c660"
      },
      "execution_count": null,
      "outputs": [
        {
          "output_type": "stream",
          "name": "stdout",
          "text": [
            "This is the list - a: ['V', 'E', 'R', 'O', 'N', ' ', 'T', 'E', 'A', 'M']\n",
            "This is the list - b: ['V', 'E', 'R', 'O', 'N', ' ', 'T', 'E', 'A', 'M']\n"
          ]
        }
      ]
    },
    {
      "cell_type": "code",
      "source": [
        "# append()\tAdds an element at the end of the list\n",
        "# clear()\tRemoves all the elements from the list\n",
        "# copy()\tReturns a copy of the list\n",
        "# count()\tReturns the number of elements with the specified value\n",
        "# extend()\tAdd the elements of a list (or any iterable), to the end of the current list\n",
        "# index()\tReturns the index of the first element with the specified value\n",
        "# insert()\tAdds an element at the specified position\n",
        "# pop()\tRemoves the element at the specified position\n",
        "# remove()\tRemoves the item with the specified value\n",
        "# reverse()\tReverses the order of the list\n",
        "# sort()\tSorts the list"
      ],
      "metadata": {
        "id": "fPOEOXa-muJv"
      },
      "execution_count": null,
      "outputs": []
    },
    {
      "cell_type": "code",
      "source": [
        "import random\n",
        "\n",
        "number_to_guess = random.randint(1, 10)\n",
        "\n",
        "print(number_to_guess)\n",
        "\n",
        "tries = 0\n",
        "\n",
        "guesses = []\n",
        "\n",
        "print(\"Welcome!\")\n",
        "print(\"Think of a number between 1 to 10\")\n",
        "\n",
        "while True:\n",
        "    user_guess = input(\"Take a guess: \")\n",
        "\n",
        "    if user_guess.lower() == \"quit\":\n",
        "        print(f\"Okay, the number was {number_to_guess}.\")\n",
        "        break\n",
        "\n",
        "    try:\n",
        "        user_guess = int(user_guess)\n",
        "    except Exception as e:\n",
        "        print(f\"That's not a valid number. {e}\")\n",
        "        continue\n",
        "\n",
        "    guesses.append(user_guess)\n",
        "\n",
        "    tries += 1\n",
        "\n",
        "    if user_guess == number_to_guess:\n",
        "        print(f\"Congratulations! You found the number in {tries} tries.\")\n",
        "        print(\"Your guesses were: {}\".format(guesses))\n",
        "        break\n",
        "    elif user_guess < number_to_guess:\n",
        "        print(\"Too low! Try again.\")\n",
        "    else:\n",
        "        print(\"Too high! Try again.\")"
      ],
      "metadata": {
        "colab": {
          "base_uri": "https://localhost:8080/"
        },
        "id": "bPm1OsoMns5t",
        "outputId": "0be017f3-ac2a-4551-f187-8755b3ea68c2"
      },
      "execution_count": null,
      "outputs": [
        {
          "output_type": "stream",
          "name": "stdout",
          "text": [
            "8\n",
            "Welcome!\n",
            "Think of a number between 1 to 10\n",
            "Take a guess: 4\n",
            "Too low! Try again.\n",
            "Take a guess: 5\n",
            "Too low! Try again.\n",
            "Take a guess: 9\n",
            "Too high! Try again.\n",
            "Take a guess: 10\n",
            "Too high! Try again.\n",
            "Take a guess: 8\n",
            "Congratulations! You found the number in 5 tries.\n",
            "Your guesses were: [4, 5, 9, 10, 8]\n"
          ]
        }
      ]
    }
  ]
}
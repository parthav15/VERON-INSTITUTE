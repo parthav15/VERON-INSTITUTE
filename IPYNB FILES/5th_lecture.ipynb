{
 "cells": [
  {
   "cell_type": "markdown",
   "metadata": {
    "vscode": {
     "languageId": "plaintext"
    }
   },
   "source": [
    "**Dictionary**\n",
    "\n",
    "- Dictionaries are used to store data values in key:value pairs.\n",
    "\n",
    "- A dictionary is a collection which is ordered*, changeable and do not allow duplicates."
   ]
  },
  {
   "cell_type": "code",
   "execution_count": 51,
   "metadata": {},
   "outputs": [
    {
     "name": "stdout",
     "output_type": "stream",
     "text": [
      "{'product_id': 123, 'name': 'Apple iPhone', 'price': 999.99, 'description': 'Latest iPhone model', 'brand': 'Apple', 'category': 'Smartphones', 'colors': ['Space Gray', 'Gold', 'Silver'], 'storage_options': ['64GB', '128GB', '256GB'], 'operating_system': 'iOS', 'release_date': '2022-09-01', 'rating': 4.8, 'reviews': 1000}\n"
     ]
    }
   ],
   "source": [
    "product_info = {\n",
    "    'product_id': 123,\n",
    "    'name': 'Apple iPhone',\n",
    "    'price': 999.99,\n",
    "    'description': 'Latest iPhone model',\n",
    "    'brand': 'Apple',\n",
    "    'category': 'Smartphones',\n",
    "    'colors': ['Space Gray', 'Gold', 'Silver'],\n",
    "    'storage_options': ['64GB', '128GB', '256GB'],\n",
    "    'operating_system': 'iOS',\n",
    "    'release_date': '2022-09-01',\n",
    "    'rating': 4.8,\n",
    "    'reviews': 1000\n",
    "}\n",
    "\n",
    "print(product_info)"
   ]
  },
  {
   "cell_type": "code",
   "execution_count": 57,
   "metadata": {},
   "outputs": [
    {
     "name": "stdout",
     "output_type": "stream",
     "text": [
      "\n",
      "\n",
      "Smartphones\n",
      "Available colors on our site: Space Gray, Gold, Silver\n"
     ]
    }
   ],
   "source": [
    "product_info = {\n",
    "    'product_id': \"\",\n",
    "    'name': 'Apple iPhone',\n",
    "    'price': 999.99,\n",
    "    'description': 'Latest iPhone model',\n",
    "    'brand': 'Apple',\n",
    "    'category': 'Smartphones',\n",
    "    'colors': ['Space Gray', 'Gold', 'Silver'],\n",
    "    'storage_options': ['64GB', '128GB', '256GB'],\n",
    "    'operating_system': 'iOS',\n",
    "    'release_date': '2022-09-01',\n",
    "    'rating': 4.8,\n",
    "    'reviews': 1000\n",
    "}\n",
    "\n",
    "print(product_info['product_id'])\n",
    "\n",
    "print(product_info.get('product_id', 'N/A'))\n",
    "\n",
    "print(product_info['category'])\n",
    "\n",
    "print(f'Available colors on our site: {\", \".join(product_info[\"colors\"])}')"
   ]
  },
  {
   "cell_type": "code",
   "execution_count": 58,
   "metadata": {},
   "outputs": [
    {
     "name": "stdout",
     "output_type": "stream",
     "text": [
      "{'product_id': 123, 'name': 'Apple iPhone', 'price': 999.99, 'description': 'Latest iPhone model', 'brand': 'Apple', 'category': 'Smartphones', 'colors': ['Space Gray', 'Gold', 'Silver'], 'storage_options': ['64GB', '128GB', '256GB'], 'operating_system': 'iOS', 'release_date': '2022-09-01', 'rating': 4.8, 'reviews': 1000}\n"
     ]
    }
   ],
   "source": [
    "product_info = {\n",
    "    'product_id': 123,\n",
    "    'name': 'Apple iPhone',\n",
    "    'price': 999.99,\n",
    "    'description': 'Latest iPhone model',\n",
    "    'brand': 'Apple',\n",
    "    'category': 'Smartphones',\n",
    "    'colors': ['Space Gray', 'Gold', 'Silver'],\n",
    "    'storage_options': ['64GB', '128GB', '256GB'],\n",
    "    'operating_system': 'iOS',\n",
    "    'release_date': '2022-09-01',\n",
    "    'rating': 4.8,\n",
    "    'reviews': 1000,\n",
    "}\n",
    "\n",
    "print(product_info)"
   ]
  },
  {
   "cell_type": "code",
   "execution_count": 59,
   "metadata": {},
   "outputs": [
    {
     "name": "stdout",
     "output_type": "stream",
     "text": [
      "12\n"
     ]
    }
   ],
   "source": [
    "product_info = {\n",
    "    'product_id': 123,\n",
    "    'name': 'Apple iPhone',\n",
    "    'price': 999.99,\n",
    "    'description': 'Latest iPhone model',\n",
    "    'brand': 'Apple',\n",
    "    'category': 'Smartphones',\n",
    "    'colors': ['Space Gray', 'Gold', 'Silver'],\n",
    "    'storage_options': ['64GB', '128GB', '256GB'],\n",
    "    'operating_system': 'iOS',\n",
    "    'release_date': '2022-09-01',\n",
    "    'rating': 4.8,\n",
    "    'reviews': 1000,\n",
    "}\n",
    "\n",
    "print(len(product_info))"
   ]
  },
  {
   "cell_type": "code",
   "execution_count": null,
   "metadata": {},
   "outputs": [],
   "source": [
    "product_info = {\n",
    "    'product_id': 123,\n",
    "    'name': 'Apple iPhone',\n",
    "    'price': 999.99,\n",
    "    'description': 'Latest iPhone model',\n",
    "    'brand': 'Apple',\n",
    "    'category': 'Smartphones',\n",
    "    'colors': ['Space Gray', 'Gold', 'Silver'],\n",
    "    'storage_options': ['64GB', '128GB', '256GB'],\n",
    "    'operating_system': 'iOS',\n",
    "    'release_date': '2022-09-01',\n",
    "    'rating': 4.8,\n",
    "    'reviews': 1000,\n",
    "}\n",
    "\n",
    "# Any Data type can be added in the Dictionary\n",
    "\n",
    "print(product_info['reviews'])\n",
    "print(product_info['price'])\n",
    "print(product_info['name'])"
   ]
  },
  {
   "cell_type": "code",
   "execution_count": 60,
   "metadata": {},
   "outputs": [
    {
     "name": "stdout",
     "output_type": "stream",
     "text": [
      "<class 'dict'>\n"
     ]
    }
   ],
   "source": [
    "product_info = {\n",
    "    'product_id': 123,\n",
    "    'name': 'Apple iPhone',\n",
    "    'price': 999.99,\n",
    "    'description': 'Latest iPhone model',\n",
    "    'brand': 'Apple',\n",
    "    'category': 'Smartphones',\n",
    "    'colors': ['Space Gray', 'Gold', 'Silver'],\n",
    "    'storage_options': ['64GB', '128GB', '256GB'],\n",
    "    'operating_system': 'iOS',\n",
    "    'release_date': '2022-09-01',\n",
    "    'rating': 4.8,\n",
    "    'reviews': 1000,\n",
    "}\n",
    "\n",
    "print(type(product_info))"
   ]
  },
  {
   "cell_type": "code",
   "execution_count": 61,
   "metadata": {},
   "outputs": [
    {
     "name": "stdout",
     "output_type": "stream",
     "text": [
      "123\n"
     ]
    }
   ],
   "source": [
    "product_info = {\n",
    "    'product_id': 123,\n",
    "    'name': 'Apple iPhone',\n",
    "    'price': 999.99,\n",
    "    'description': 'Latest iPhone model',\n",
    "    'brand': 'Apple',\n",
    "    'category': 'Smartphones',\n",
    "    'colors': ['Space Gray', 'Gold', 'Silver'],\n",
    "    'storage_options': ['64GB', '128GB', '256GB'],\n",
    "    'operating_system': 'iOS',\n",
    "    'release_date': '2022-09-01',\n",
    "    'rating': 4.8,\n",
    "    'reviews': 1000,\n",
    "}\n",
    "\n",
    "a = product_info.get('product_id', '')\n",
    "\n",
    "print(a)"
   ]
  },
  {
   "cell_type": "code",
   "execution_count": 62,
   "metadata": {},
   "outputs": [
    {
     "name": "stdout",
     "output_type": "stream",
     "text": [
      "dict_keys(['product_id', 'name', 'price', 'description', 'brand', 'category', 'colors', 'storage_options', 'operating_system', 'release_date', 'rating', 'reviews'])\n"
     ]
    }
   ],
   "source": [
    "product_info = {\n",
    "    'product_id': 123,\n",
    "    'name': 'Apple iPhone',\n",
    "    'price': 999.99,\n",
    "    'description': 'Latest iPhone model',\n",
    "    'brand': 'Apple',\n",
    "    'category': 'Smartphones',\n",
    "    'colors': ['Space Gray', 'Gold', 'Silver'],\n",
    "    'storage_options': ['64GB', '128GB', '256GB'],\n",
    "    'operating_system': 'iOS',\n",
    "    'release_date': '2022-09-01',\n",
    "    'rating': 4.8,\n",
    "    'reviews': 1000,\n",
    "}\n",
    "\n",
    "a = product_info.keys()\n",
    "\n",
    "print(a)"
   ]
  },
  {
   "cell_type": "code",
   "execution_count": 63,
   "metadata": {},
   "outputs": [
    {
     "name": "stdout",
     "output_type": "stream",
     "text": [
      "dict_keys(['product_id', 'name', 'price', 'description', 'brand', 'category', 'colors', 'storage_options', 'operating_system', 'release_date', 'rating', 'reviews'])\n",
      "dict_keys(['product_id', 'name', 'price', 'description', 'brand', 'category', 'colors', 'storage_options', 'operating_system', 'release_date', 'rating', 'reviews', 'Comments'])\n",
      "{'product_id': 123, 'name': 'Apple iPhone', 'price': 999.99, 'description': 'Latest iPhone model', 'brand': 'Apple', 'category': 'Smartphones', 'colors': ['Space Gray', 'Gold', 'Silver'], 'storage_options': ['64GB', '128GB', '256GB'], 'operating_system': 'iOS', 'release_date': '2022-09-01', 'rating': 4.8, 'reviews': 1000, 'Comments': ['Great', 'Nice', 'Awesome']}\n"
     ]
    }
   ],
   "source": [
    "product_info = {\n",
    "    'product_id': 123,\n",
    "    'name': 'Apple iPhone',\n",
    "    'price': 999.99,\n",
    "    'description': 'Latest iPhone model',\n",
    "    'brand': 'Apple',\n",
    "    'category': 'Smartphones',\n",
    "    'colors': ['Space Gray', 'Gold', 'Silver'],\n",
    "    'storage_options': ['64GB', '128GB', '256GB'],\n",
    "    'operating_system': 'iOS',\n",
    "    'release_date': '2022-09-01',\n",
    "    'rating': 4.8,\n",
    "    'reviews': 1000,\n",
    "}\n",
    "\n",
    "a = product_info.keys()\n",
    "\n",
    "print(a)\n",
    "\n",
    "product_info[\"Comments\"] = [\"Great\", \"Nice\", \"Awesome\"]\n",
    "\n",
    "print(a)\n",
    "\n",
    "print(product_info)"
   ]
  },
  {
   "cell_type": "code",
   "execution_count": 64,
   "metadata": {},
   "outputs": [
    {
     "name": "stdout",
     "output_type": "stream",
     "text": [
      "dict_values([123, 'Apple iPhone', 999.99, 'Latest iPhone model', 'Apple', 'Smartphones', ['Space Gray', 'Gold', 'Silver'], ['64GB', '128GB', '256GB'], 'iOS', '2022-09-01', 4.8, 1000])\n"
     ]
    }
   ],
   "source": [
    "product_info = {\n",
    "    'product_id': 123,\n",
    "    'name': 'Apple iPhone',\n",
    "    'price': 999.99,\n",
    "    'description': 'Latest iPhone model',\n",
    "    'brand': 'Apple',\n",
    "    'category': 'Smartphones',\n",
    "    'colors': ['Space Gray', 'Gold', 'Silver'],\n",
    "    'storage_options': ['64GB', '128GB', '256GB'],\n",
    "    'operating_system': 'iOS',\n",
    "    'release_date': '2022-09-01',\n",
    "    'rating': 4.8,\n",
    "    'reviews': 1000,\n",
    "}\n",
    "\n",
    "a = product_info.values()\n",
    "\n",
    "print(a)"
   ]
  },
  {
   "cell_type": "code",
   "execution_count": 65,
   "metadata": {},
   "outputs": [
    {
     "name": "stdout",
     "output_type": "stream",
     "text": [
      "dict_items([('product_id', 123), ('name', 'Apple iPhone'), ('price', 999.99), ('description', 'Latest iPhone model'), ('brand', 'Apple'), ('category', 'Smartphones'), ('colors', ['Space Gray', 'Gold', 'Silver']), ('storage_options', ['64GB', '128GB', '256GB']), ('operating_system', 'iOS'), ('release_date', '2022-09-01'), ('rating', 4.8), ('reviews', 1000)])\n"
     ]
    }
   ],
   "source": [
    "product_info = {\n",
    "    'product_id': 123,\n",
    "    'name': 'Apple iPhone',\n",
    "    'price': 999.99,\n",
    "    'description': 'Latest iPhone model',\n",
    "    'brand': 'Apple',\n",
    "    'category': 'Smartphones',\n",
    "    'colors': ['Space Gray', 'Gold', 'Silver'],\n",
    "    'storage_options': ['64GB', '128GB', '256GB'],\n",
    "    'operating_system': 'iOS',\n",
    "    'release_date': '2022-09-01',\n",
    "    'rating': 4.8,\n",
    "    'reviews': 1000,\n",
    "}\n",
    "\n",
    "a = product_info.items()\n",
    "\n",
    "print(a)"
   ]
  },
  {
   "cell_type": "code",
   "execution_count": 67,
   "metadata": {},
   "outputs": [
    {
     "name": "stdout",
     "output_type": "stream",
     "text": [
      "No, brand key do not exists in the product_info dictionary\n"
     ]
    }
   ],
   "source": [
    "product_info = {\n",
    "    'product_id': 123,\n",
    "    'name': 'Apple iPhone',\n",
    "    'price': 999.99,\n",
    "    'description': 'Latest iPhone model',\n",
    "    'brand1': 'Apple',\n",
    "    'category': 'Smartphones',\n",
    "    'colors': ['Space Gray', 'Gold', 'Silver'],\n",
    "    'storage_options': ['64GB', '128GB', '256GB'],\n",
    "    'operating_system': 'iOS',\n",
    "    'release_date': '2022-09-01',\n",
    "    'rating': 4.8,\n",
    "    'reviews': 1000,\n",
    "}\n",
    "\n",
    "if \"brand\" in product_info:\n",
    "    print(\"Yes brand key exists in the product_info dictionary\")\n",
    "else:\n",
    "    print(\"No, brand key do not exists in the product_info dictionary\")\n"
   ]
  },
  {
   "cell_type": "code",
   "execution_count": 68,
   "metadata": {},
   "outputs": [
    {
     "name": "stdout",
     "output_type": "stream",
     "text": [
      "{'product_id': 123, 'name': 'Apple iPhone', 'price': 999.99, 'description': 'Latest iPhone model', 'brand': 'Apple', 'category': 'Smartphones', 'colors': ['Space Gray', 'Gold', 'Silver'], 'storage_options': ['64GB', '128GB', '256GB'], 'operating_system': 'iOS', 'release_date': '2022-09-01', 'rating': 4.8, 'reviews': ['Great', 'Nice', 'Awesome', 'Fantastic']}\n"
     ]
    }
   ],
   "source": [
    "product_info = {\n",
    "    'product_id': 123,\n",
    "    'name': 'Apple iPhone',\n",
    "    'price': 999.99,\n",
    "    'description': 'Latest iPhone model',\n",
    "    'brand': 'Apple',\n",
    "    'category': 'Smartphones',\n",
    "    'colors': ['Space Gray', 'Gold', 'Silver'],\n",
    "    'storage_options': ['64GB', '128GB', '256GB'],\n",
    "    'operating_system': 'iOS',\n",
    "    'release_date': '2022-09-01',\n",
    "    'rating': 4.8,\n",
    "    'reviews': 1000,\n",
    "}\n",
    "\n",
    "product_info['reviews'] = ['Great', 'Nice', 'Awesome', 'Fantastic']\n",
    "\n",
    "print(product_info)"
   ]
  },
  {
   "cell_type": "code",
   "execution_count": null,
   "metadata": {},
   "outputs": [],
   "source": [
    "product_info = {\n",
    "    'product_id': 123,\n",
    "    'name': 'Apple iPhone',\n",
    "    'price': 999.99,\n",
    "    'description': 'Latest iPhone model',\n",
    "    'brand': 'Apple',\n",
    "    'category': 'Smartphones',\n",
    "    'colors': ['Space Gray', 'Gold', 'Silver'],\n",
    "    'storage_options': ['64GB', '128GB', '256GB'],\n",
    "    'operating_system': 'iOS',\n",
    "    'release_date': '2022-09-01',\n",
    "    'rating': 4.8,\n",
    "    'reviews': 1000,\n",
    "}\n",
    "\n",
    "product_info.update({'reviews': ['Great', 'Nice', 'Awesome', 'Fantastic']})\n",
    "\n",
    "print(product_info)"
   ]
  },
  {
   "cell_type": "code",
   "execution_count": 71,
   "metadata": {},
   "outputs": [
    {
     "name": "stdout",
     "output_type": "stream",
     "text": [
      "{\n",
      "     \"product_id\": 123,\n",
      "     \"name\": \"Apple iPhone\",\n",
      "     \"price\": 999.99,\n",
      "     \"description\": \"Latest iPhone model\",\n",
      "     \"brand\": \"Apple\",\n",
      "     \"category\": \"Smartphones\",\n",
      "     \"colors\": [\n",
      "          \"Space Gray\",\n",
      "          \"Gold\",\n",
      "          \"Silver\"\n",
      "     ],\n",
      "     \"storage_options\": [\n",
      "          \"64GB\",\n",
      "          \"128GB\",\n",
      "          \"256GB\"\n",
      "     ],\n",
      "     \"operating_system\": \"iOS\",\n",
      "     \"release_date\": \"2022-09-01\",\n",
      "     \"rating\": 4.8,\n",
      "     \"reviews\": 1000,\n",
      "     \"comments\": [\n",
      "          \"amazing\",\n",
      "          \"fantastic\",\n",
      "          \"nice\",\n",
      "          \"great\"\n",
      "     ]\n",
      "}\n"
     ]
    }
   ],
   "source": [
    "import json\n",
    "product_info = {\n",
    "    'product_id': 123,\n",
    "    'name': 'Apple iPhone',\n",
    "    'price': 999.99,\n",
    "    'description': 'Latest iPhone model',\n",
    "    'brand': 'Apple',\n",
    "    'category': 'Smartphones',\n",
    "    'colors': ['Space Gray', 'Gold', 'Silver'],\n",
    "    'storage_options': ['64GB', '128GB', '256GB'],\n",
    "    'operating_system': 'iOS',\n",
    "    'release_date': '2022-09-01',\n",
    "    'rating': 4.8,\n",
    "    'reviews': 1000,\n",
    "}\n",
    "\n",
    "product_info['comments'] = ['amazing', 'fantastic', 'nice', 'great']\n",
    "\n",
    "json_data = json.dumps(product_info, indent=5)\n",
    "print(json_data)"
   ]
  },
  {
   "cell_type": "code",
   "execution_count": 72,
   "metadata": {},
   "outputs": [
    {
     "name": "stdout",
     "output_type": "stream",
     "text": [
      "{'product_id': 123, 'name': 'Apple iPhone', 'description': 'Latest iPhone model', 'brand': 'Apple', 'category': 'Smartphones', 'colors': ['Space Gray', 'Gold', 'Silver'], 'storage_options': ['64GB', '128GB', '256GB'], 'operating_system': 'iOS', 'release_date': '2022-09-01', 'rating': 4.8, 'reviews': 1000}\n"
     ]
    }
   ],
   "source": [
    "product_info = {\n",
    "    'product_id': 123,\n",
    "    'name': 'Apple iPhone',\n",
    "    'price': 999.99,\n",
    "    'description': 'Latest iPhone model',\n",
    "    'brand': 'Apple',\n",
    "    'category': 'Smartphones',\n",
    "    'colors': ['Space Gray', 'Gold', 'Silver'],\n",
    "    'storage_options': ['64GB', '128GB', '256GB'],\n",
    "    'operating_system': 'iOS',\n",
    "    'release_date': '2022-09-01',\n",
    "    'rating': 4.8,\n",
    "    'reviews': 1000,\n",
    "}\n",
    "\n",
    "product_info.pop(\"price\")\n",
    "\n",
    "print(product_info)"
   ]
  },
  {
   "cell_type": "code",
   "execution_count": 73,
   "metadata": {},
   "outputs": [
    {
     "name": "stdout",
     "output_type": "stream",
     "text": [
      "{\n",
      "    \"product_id\": 123,\n",
      "    \"name\": \"Apple iPhone\",\n",
      "    \"price\": 999.99,\n",
      "    \"description\": \"Latest iPhone model\",\n",
      "    \"brand\": \"Apple\",\n",
      "    \"category\": \"Smartphones\",\n",
      "    \"colors\": [\n",
      "        \"Space Gray\",\n",
      "        \"Gold\",\n",
      "        \"Silver\"\n",
      "    ],\n",
      "    \"storage_options\": [\n",
      "        \"64GB\",\n",
      "        \"128GB\",\n",
      "        \"256GB\"\n",
      "    ],\n",
      "    \"operating_system\": \"iOS\",\n",
      "    \"release_date\": \"2022-09-01\",\n",
      "    \"rating\": 4.8\n",
      "}\n"
     ]
    }
   ],
   "source": [
    "import json\n",
    "\n",
    "product_info = {\n",
    "    'product_id': 123,\n",
    "    'name': 'Apple iPhone',\n",
    "    'price': 999.99,\n",
    "    'description': 'Latest iPhone model',\n",
    "    'brand': 'Apple',\n",
    "    'category': 'Smartphones',\n",
    "    'colors': ['Space Gray', 'Gold', 'Silver'],\n",
    "    'storage_options': ['64GB', '128GB', '256GB'],\n",
    "    'operating_system': 'iOS',\n",
    "    'release_date': '2022-09-01',\n",
    "    'rating': 4.8,\n",
    "    'reviews': 1000,\n",
    "}\n",
    "\n",
    "product_info.popitem()\n",
    "\n",
    "print(json.dumps(product_info, indent=4))"
   ]
  },
  {
   "cell_type": "code",
   "execution_count": 74,
   "metadata": {},
   "outputs": [
    {
     "name": "stdout",
     "output_type": "stream",
     "text": [
      "{'product_id': 123, 'name': 'Apple iPhone', 'price': 999.99, 'description': 'Latest iPhone model', 'brand': 'Apple', 'category': 'Smartphones', 'colors': ['Space Gray', 'Gold', 'Silver'], 'storage_options': ['64GB', '128GB', '256GB'], 'operating_system': 'iOS', 'release_date': '2022-09-01', 'rating': 4.8, 'reviews': 1000}\n",
      "{}\n"
     ]
    }
   ],
   "source": [
    "product_info = {\n",
    "    'product_id': 123,\n",
    "    'name': 'Apple iPhone',\n",
    "    'price': 999.99,\n",
    "    'description': 'Latest iPhone model',\n",
    "    'brand': 'Apple',\n",
    "    'category': 'Smartphones',\n",
    "    'colors': ['Space Gray', 'Gold', 'Silver'],\n",
    "    'storage_options': ['64GB', '128GB', '256GB'],\n",
    "    'operating_system': 'iOS',\n",
    "    'release_date': '2022-09-01',\n",
    "    'rating': 4.8,\n",
    "    'reviews': 1000,\n",
    "}\n",
    "\n",
    "print(product_info)\n",
    "\n",
    "product_info.clear()\n",
    "\n",
    "print(product_info)"
   ]
  },
  {
   "cell_type": "code",
   "execution_count": null,
   "metadata": {},
   "outputs": [],
   "source": [
    "product_info = {\n",
    "    'product_id': 123,\n",
    "    'name': 'Apple iPhone',\n",
    "    'price': 999.99,\n",
    "    'description': 'Latest iPhone model',\n",
    "    'brand': 'Apple',\n",
    "    'category': 'Smartphones',\n",
    "    'colors': ['Space Gray', 'Gold', 'Silver'],\n",
    "    'storage_options': ['64GB', '128GB', '256GB'],\n",
    "    'operating_system': 'iOS',\n",
    "    'release_date': '2022-09-01',\n",
    "    'rating': 4.8,\n",
    "    'reviews': 1000,\n",
    "}\n",
    "\n",
    "for x in product_info:\n",
    "    print(x)"
   ]
  },
  {
   "cell_type": "code",
   "execution_count": null,
   "metadata": {},
   "outputs": [],
   "source": [
    "product_info = {\n",
    "    'product_id': 123,\n",
    "    'name': 'Apple iPhone',\n",
    "    'price': 999.99,\n",
    "    'description': 'Latest iPhone model',\n",
    "    'brand': 'Apple',\n",
    "    'category': 'Smartphones',\n",
    "    'colors': ['Space Gray', 'Gold', 'Silver'],\n",
    "    'storage_options': ['64GB', '128GB', '256GB'],\n",
    "    'operating_system': 'iOS',\n",
    "    'release_date': '2022-09-01',\n",
    "    'rating': 4.8,\n",
    "    'reviews': 1000,\n",
    "}\n",
    "\n",
    "for x in product_info:\n",
    "    print(product_info[x])"
   ]
  },
  {
   "cell_type": "code",
   "execution_count": 75,
   "metadata": {},
   "outputs": [
    {
     "name": "stdout",
     "output_type": "stream",
     "text": [
      "123\n",
      "Apple iPhone\n",
      "999.99\n",
      "Latest iPhone model\n",
      "Apple\n",
      "Smartphones\n",
      "['Space Gray', 'Gold', 'Silver']\n",
      "['64GB', '128GB', '256GB']\n",
      "iOS\n",
      "2022-09-01\n",
      "4.8\n",
      "1000\n"
     ]
    }
   ],
   "source": [
    "product_info = {\n",
    "    'product_id': 123,\n",
    "    'name': 'Apple iPhone',\n",
    "    'price': 999.99,\n",
    "    'description': 'Latest iPhone model',\n",
    "    'brand': 'Apple',\n",
    "    'category': 'Smartphones',\n",
    "    'colors': ['Space Gray', 'Gold', 'Silver'],\n",
    "    'storage_options': ['64GB', '128GB', '256GB'],\n",
    "    'operating_system': 'iOS',\n",
    "    'release_date': '2022-09-01',\n",
    "    'rating': 4.8,\n",
    "    'reviews': 1000,\n",
    "}\n",
    "\n",
    "for x in product_info.values():\n",
    "    print(x)"
   ]
  },
  {
   "cell_type": "code",
   "execution_count": 76,
   "metadata": {},
   "outputs": [
    {
     "name": "stdout",
     "output_type": "stream",
     "text": [
      "product_id 123\n",
      "name Apple iPhone\n",
      "price 999.99\n",
      "description Latest iPhone model\n",
      "brand Apple\n",
      "category Smartphones\n",
      "colors ['Space Gray', 'Gold', 'Silver']\n",
      "storage_options ['64GB', '128GB', '256GB']\n",
      "operating_system iOS\n",
      "release_date 2022-09-01\n",
      "rating 4.8\n",
      "reviews 1000\n"
     ]
    }
   ],
   "source": [
    "product_info = {\n",
    "    'product_id': 123,\n",
    "    'name': 'Apple iPhone',\n",
    "    'price': 999.99,\n",
    "    'description': 'Latest iPhone model',\n",
    "    'brand': 'Apple',\n",
    "    'category': 'Smartphones',\n",
    "    'colors': ['Space Gray', 'Gold', 'Silver'],\n",
    "    'storage_options': ['64GB', '128GB', '256GB'],\n",
    "    'operating_system': 'iOS',\n",
    "    'release_date': '2022-09-01',\n",
    "    'rating': 4.8,\n",
    "    'reviews': 1000,\n",
    "}\n",
    "\n",
    "for x, y in product_info.items():\n",
    "    print(x, y)"
   ]
  },
  {
   "cell_type": "code",
   "execution_count": 77,
   "metadata": {},
   "outputs": [
    {
     "name": "stdout",
     "output_type": "stream",
     "text": [
      "{'product_id': 123, 'name': 'Apple iPhone', 'price': 999.99, 'description': 'Latest iPhone model', 'brand': 'Apple', 'category': 'Smartphones', 'colors': ['Space Gray', 'Gold', 'Silver'], 'storage_options': ['64GB', '128GB', '256GB'], 'operating_system': 'iOS', 'release_date': '2022-09-01', 'rating': 4.8, 'reviews': 1000}\n"
     ]
    }
   ],
   "source": [
    "product_info = {\n",
    "    'product_id': 123,\n",
    "    'name': 'Apple iPhone',\n",
    "    'price': 999.99,\n",
    "    'description': 'Latest iPhone model',\n",
    "    'brand': 'Apple',\n",
    "    'category': 'Smartphones',\n",
    "    'colors': ['Space Gray', 'Gold', 'Silver'],\n",
    "    'storage_options': ['64GB', '128GB', '256GB'],\n",
    "    'operating_system': 'iOS',\n",
    "    'release_date': '2022-09-01',\n",
    "    'rating': 4.8,\n",
    "    'reviews': 1000,\n",
    "}\n",
    "\n",
    "a = product_info.copy()\n",
    "\n",
    "print(a)"
   ]
  },
  {
   "cell_type": "code",
   "execution_count": 78,
   "metadata": {},
   "outputs": [
    {
     "name": "stdout",
     "output_type": "stream",
     "text": [
      "{\n",
      "    \"product_id\": 123,\n",
      "    \"name\": \"Apple iPhone\",\n",
      "    \"price\": 999.99,\n",
      "    \"description\": \"Latest iPhone model\",\n",
      "    \"brand\": \"Apple\",\n",
      "    \"category\": \"Smartphones\",\n",
      "    \"colors\": [\n",
      "        \"Space Gray\",\n",
      "        \"Gold\",\n",
      "        \"Silver\"\n",
      "    ],\n",
      "    \"storage_options\": [\n",
      "        \"64GB\",\n",
      "        \"128GB\",\n",
      "        \"256GB\"\n",
      "    ],\n",
      "    \"operating_system\": \"iOS\",\n",
      "    \"release_date\": \"2022-09-01\",\n",
      "    \"rating\": 4.8,\n",
      "    \"reviews\": 1000,\n",
      "    \"comments\": [\n",
      "        \"amazing\",\n",
      "        \"fantastic\",\n",
      "        \"nice\",\n",
      "        \"great\"\n",
      "    ],\n",
      "    \"specs\": {\n",
      "        \"display\": \"6.1 inches\",\n",
      "        \"processor\": \"A15 Bionic chip\",\n",
      "        \"ram\": \"6GB\",\n",
      "        \"rear_camera\": \"12MP\",\n",
      "        \"front_camera\": \"7MP\",\n",
      "        \"battery\": \"4082mAh\"\n",
      "    },\n",
      "    \"variants\": {\n",
      "        \"64GB\": {\n",
      "            \"price\": 999.99,\n",
      "            \"availability\": \"In stock\"\n",
      "        },\n",
      "        \"128GB\": {\n",
      "            \"price\": 1099.99,\n",
      "            \"availability\": \"Out of stock\"\n",
      "        },\n",
      "        \"256GB\": {\n",
      "            \"price\": 1299.99,\n",
      "            \"availability\": \"In stock\"\n",
      "        }\n",
      "    }\n",
      "}\n"
     ]
    }
   ],
   "source": [
    "import json\n",
    "\n",
    "product_info = {\n",
    "    'product_id': 123,\n",
    "    'name': 'Apple iPhone',\n",
    "    'price': 999.99,\n",
    "    'description': 'Latest iPhone model',\n",
    "    'brand': 'Apple',\n",
    "    'category': 'Smartphones',\n",
    "    'colors': ['Space Gray', 'Gold', 'Silver'],\n",
    "    'storage_options': ['64GB', '128GB', '256GB'],\n",
    "    'operating_system': 'iOS',\n",
    "    'release_date': '2022-09-01',\n",
    "    'rating': 4.8,\n",
    "    'reviews': 1000,\n",
    "    'comments': ['amazing', 'fantastic', 'nice', 'great'],\n",
    "    'specs': {\n",
    "        'display': '6.1 inches',\n",
    "        'processor': 'A15 Bionic chip',\n",
    "        'ram': '6GB',\n",
    "        'rear_camera': '12MP',\n",
    "        'front_camera': '7MP',\n",
    "        'battery': '4082mAh'\n",
    "    },\n",
    "    'variants': {\n",
    "        '64GB': {\n",
    "            'price': 999.99,\n",
    "            'availability': 'In stock'\n",
    "        },\n",
    "        '128GB': {\n",
    "            'price': 1099.99,\n",
    "            'availability': 'Out of stock'\n",
    "        },\n",
    "        '256GB': {\n",
    "            'price': 1299.99,\n",
    "            'availability': 'In stock'\n",
    "        }\n",
    "    }\n",
    "}\n",
    "\n",
    "json_data = json.dumps(product_info, indent=4)\n",
    "print(json_data)"
   ]
  },
  {
   "cell_type": "code",
   "execution_count": 79,
   "metadata": {},
   "outputs": [
    {
     "name": "stdout",
     "output_type": "stream",
     "text": [
      "In stock\n",
      "This is how to get the items in the nested dictionary:  4082mAh\n",
      "999.99\n"
     ]
    }
   ],
   "source": [
    "import json\n",
    "\n",
    "product_info = {\n",
    "    'product_id': 123,\n",
    "    'name': 'Apple iPhone',\n",
    "    'price': 999.99,\n",
    "    'description': 'Latest iPhone model',\n",
    "    'brand': 'Apple',\n",
    "    'category': 'Smartphones',\n",
    "    'colors': ['Space Gray', 'Gold', 'Silver'],\n",
    "    'storage_options': ['64GB', '128GB', '256GB'],\n",
    "    'operating_system': 'iOS',\n",
    "    'release_date': '2022-09-01',\n",
    "    'rating': 4.8,\n",
    "    'reviews': 1000,\n",
    "    'comments': ['amazing', 'fantastic', 'nice', 'great'],\n",
    "    'specs': {\n",
    "        'display': '6.1 inches',\n",
    "        'processor': 'A15 Bionic chip',\n",
    "        'ram': '6GB',\n",
    "        'rear_camera': '12MP',\n",
    "        'front_camera': '7MP',\n",
    "        'battery': '4082mAh'\n",
    "    },\n",
    "    'variants': {\n",
    "        '64GB': {\n",
    "            'price': 999.99,\n",
    "            'availability': 'In stock'\n",
    "        },\n",
    "        '128GB': {\n",
    "            'price': 1099.99,\n",
    "            'availability': 'Out of stock'\n",
    "        },\n",
    "        '256GB': {\n",
    "            'price': 1299.99,\n",
    "            'availability': 'In stock'\n",
    "        }\n",
    "    }\n",
    "}\n",
    "\n",
    "print(product_info.get('variants').get('64GB').get('availability'))\n",
    "\n",
    "print(f\"This is how to get the items in the nested dictionary: \", product_info.get('specs', '').get('battery', ''))\n",
    "\n",
    "print(product_info['variants']['64GB']['price'])"
   ]
  },
  {
   "cell_type": "code",
   "execution_count": null,
   "metadata": {},
   "outputs": [],
   "source": [
    "# clear()\tRemoves all the elements from the dictionary\n",
    "# copy()\tReturns a copy of the dictionary\n",
    "# fromkeys()\tReturns a dictionary with the specified keys and value\n",
    "# get()\tReturns the value of the specified key\n",
    "# items()\tReturns a list containing a tuple for each key value pair\n",
    "# keys()\tReturns a list containing the dictionary's keys\n",
    "# pop()\tRemoves the element with the specified key\n",
    "# popitem()\tRemoves the last inserted key-value pair\n",
    "# setdefault()\tReturns the value of the specified key. If the key does not exist: insert the key, with the specified value\n",
    "# update()\tUpdates the dictionary with the specified key-value pairs\n",
    "# values()\tReturns a list of all the values in the dictionary"
   ]
  }
 ],
 "metadata": {
  "kernelspec": {
   "display_name": ".venv",
   "language": "python",
   "name": "python3"
  },
  "language_info": {
   "codemirror_mode": {
    "name": "ipython",
    "version": 3
   },
   "file_extension": ".py",
   "mimetype": "text/x-python",
   "name": "python",
   "nbconvert_exporter": "python",
   "pygments_lexer": "ipython3",
   "version": "3.13.0"
  }
 },
 "nbformat": 4,
 "nbformat_minor": 2
}

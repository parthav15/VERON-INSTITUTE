{
  "nbformat": 4,
  "nbformat_minor": 0,
  "metadata": {
    "colab": {
      "provenance": []
    },
    "kernelspec": {
      "name": "python3",
      "display_name": "Python 3"
    },
    "language_info": {
      "name": "python"
    }
  },
  "cells": [
    {
      "cell_type": "markdown",
      "source": [
        "**What is NumPy?**\n",
        "\n",
        "* NumPy is a Python library used for working with arrays.\n",
        "\n",
        "* NumPy stands for Numerical Python."
      ],
      "metadata": {
        "id": "NWb39C7hnShs"
      }
    },
    {
      "cell_type": "markdown",
      "source": [
        "**Why Use NumPy?**\n",
        "\n",
        "* In Python we have lists that serve the purpose of arrays, but they are slow to process.\n",
        "\n",
        "* NumPy aims to provide an array object that is up to 50x faster than traditional Python lists.\n",
        "\n",
        "* The array object in NumPy is called ndarray, it provides a lot of supporting functions that make working with ndarray very easy.\n",
        "\n",
        "* Arrays are very frequently used in data science and machine learning, where speed and resources are very important."
      ],
      "metadata": {
        "id": "v7u4ADJOof2p"
      }
    },
    {
      "cell_type": "code",
      "source": [
        "# Installation of NumPy in our Python Environment\n",
        "\n",
        "# Installation of NumPy in our Python Environment\n",
        "\n",
        "# Just run the command\n",
        "\n",
        "!pip install numpy"
      ],
      "metadata": {
        "colab": {
          "base_uri": "https://localhost:8080/"
        },
        "id": "j3G_SgbfoM_I",
        "outputId": "625630d6-0694-47ef-f3ec-0154a3d1053e"
      },
      "execution_count": 2,
      "outputs": [
        {
          "output_type": "stream",
          "name": "stdout",
          "text": [
            "Requirement already satisfied: numpy in /usr/local/lib/python3.11/dist-packages (1.26.4)\n"
          ]
        }
      ]
    },
    {
      "cell_type": "code",
      "source": [
        "import numpy as np"
      ],
      "metadata": {
        "id": "vHiJdAvtpknu"
      },
      "execution_count": 3,
      "outputs": []
    },
    {
      "cell_type": "markdown",
      "source": [
        "**Create a NumPy ndarray Object**\n",
        "\n",
        "* NumPy is used to work with arrays. The array object in NumPy is called ndarray.\n",
        "\n",
        "* We can create a NumPy ndarray object by using the array() function."
      ],
      "metadata": {
        "id": "Zkbsr66wqY2z"
      }
    },
    {
      "cell_type": "code",
      "source": [
        "numpy_array = np.array([1, 2, 3, 4, 5])\n",
        "\n",
        "print(numpy_array)\n",
        "\n",
        "print(type(numpy_array))"
      ],
      "metadata": {
        "colab": {
          "base_uri": "https://localhost:8080/"
        },
        "id": "Sac6syiFp9G1",
        "outputId": "3639f00f-a0dc-4af5-fcd6-5344dde01e92"
      },
      "execution_count": 4,
      "outputs": [
        {
          "output_type": "stream",
          "name": "stdout",
          "text": [
            "[1 2 3 4 5]\n",
            "<class 'numpy.ndarray'>\n"
          ]
        }
      ]
    },
    {
      "cell_type": "code",
      "source": [
        "numpy_array[0]"
      ],
      "metadata": {
        "colab": {
          "base_uri": "https://localhost:8080/"
        },
        "id": "2fSXuhvRqFrv",
        "outputId": "d549e109-d538-40b7-9621-59dcde860728"
      },
      "execution_count": 5,
      "outputs": [
        {
          "output_type": "execute_result",
          "data": {
            "text/plain": [
              "1"
            ]
          },
          "metadata": {},
          "execution_count": 5
        }
      ]
    },
    {
      "cell_type": "code",
      "source": [
        "numpy_array[0] + numpy_array[1]"
      ],
      "metadata": {
        "colab": {
          "base_uri": "https://localhost:8080/"
        },
        "id": "NBsjz1cMq0-D",
        "outputId": "ee2149bb-e561-4ca1-f3e8-83e4648a47de"
      },
      "execution_count": 6,
      "outputs": [
        {
          "output_type": "execute_result",
          "data": {
            "text/plain": [
              "3"
            ]
          },
          "metadata": {},
          "execution_count": 6
        }
      ]
    },
    {
      "cell_type": "code",
      "source": [
        "numpy_array[-1]"
      ],
      "metadata": {
        "colab": {
          "base_uri": "https://localhost:8080/"
        },
        "id": "prrWUimOq7DB",
        "outputId": "d686746d-70aa-40d3-a18f-513161e05573"
      },
      "execution_count": 11,
      "outputs": [
        {
          "output_type": "execute_result",
          "data": {
            "text/plain": [
              "5"
            ]
          },
          "metadata": {},
          "execution_count": 11
        }
      ]
    },
    {
      "cell_type": "code",
      "source": [
        "array_1d = np.array([1, 2, 3, 4, 5])\n",
        "print(\"1D Array:\", array_1d)\n",
        "\n",
        "array_2d = np.array([[1, 2, 3], [4, 5, 6]])\n",
        "print(\"2D Array:\\n\", array_2d)"
      ],
      "metadata": {
        "colab": {
          "base_uri": "https://localhost:8080/"
        },
        "id": "9h0wwSjarfXK",
        "outputId": "52cba272-d192-48c4-c85b-51408d23a1d5"
      },
      "execution_count": 15,
      "outputs": [
        {
          "output_type": "stream",
          "name": "stdout",
          "text": [
            "1D Array: [1 2 3 4 5]\n",
            "2D Array:\n",
            " [[1 2 3]\n",
            " [4 5 6]]\n"
          ]
        }
      ]
    },
    {
      "cell_type": "code",
      "source": [
        "zeros_array = np.zeros((2, 3))\n",
        "\n",
        "print(\"Zeros Array:\\n\", zeros_array)"
      ],
      "metadata": {
        "colab": {
          "base_uri": "https://localhost:8080/"
        },
        "id": "BT_DRB2wsSbQ",
        "outputId": "49019576-4e97-4b39-fb8e-91ea1da21221"
      },
      "execution_count": 13,
      "outputs": [
        {
          "output_type": "stream",
          "name": "stdout",
          "text": [
            "Zeros Array:\n",
            " [[0. 0. 0.]\n",
            " [0. 0. 0.]]\n"
          ]
        }
      ]
    },
    {
      "cell_type": "code",
      "source": [
        "ones_array = np.ones((3, 2))\n",
        "\n",
        "print(\"Ones Array:\\n\", ones_array)"
      ],
      "metadata": {
        "colab": {
          "base_uri": "https://localhost:8080/"
        },
        "id": "WmkaDXxOseVD",
        "outputId": "c8542772-c410-4dd8-dd71-e82a40334100"
      },
      "execution_count": 20,
      "outputs": [
        {
          "output_type": "stream",
          "name": "stdout",
          "text": [
            "Ones Array:\n",
            " [[ 1.0  1.0]\n",
            " [ 1.0  1.0]\n",
            " [ 1.0  1.0]]\n"
          ]
        }
      ]
    },
    {
      "cell_type": "code",
      "source": [
        "print(\"Shape of Ones Array:\", ones_array.shape)"
      ],
      "metadata": {
        "colab": {
          "base_uri": "https://localhost:8080/"
        },
        "id": "optJ562cs_Ym",
        "outputId": "09a34bf7-f698-49af-ac38-67509a4b018e"
      },
      "execution_count": 22,
      "outputs": [
        {
          "output_type": "stream",
          "name": "stdout",
          "text": [
            "Shape of Ones Array: (3, 2)\n"
          ]
        }
      ]
    },
    {
      "cell_type": "code",
      "source": [
        "print(\"Data Type of Array:\", zeros_array.dtype)"
      ],
      "metadata": {
        "colab": {
          "base_uri": "https://localhost:8080/"
        },
        "id": "7LUk_IoatbyF",
        "outputId": "ca587a26-2a3b-4700-e376-34ab9fa195b2"
      },
      "execution_count": 24,
      "outputs": [
        {
          "output_type": "stream",
          "name": "stdout",
          "text": [
            "Data Type of Array: float64\n"
          ]
        }
      ]
    },
    {
      "cell_type": "code",
      "source": [
        "array_1d = np.array([1, 2, 3, 4, 5])\n",
        "print(\"Number of Dimensions:\", array_1d.ndim)"
      ],
      "metadata": {
        "colab": {
          "base_uri": "https://localhost:8080/"
        },
        "id": "LYVR9iAktqj0",
        "outputId": "94c8e537-af54-433f-fa3f-31159576414f"
      },
      "execution_count": 8,
      "outputs": [
        {
          "output_type": "stream",
          "name": "stdout",
          "text": [
            "Number of Dimensions: 1\n"
          ]
        }
      ]
    },
    {
      "cell_type": "code",
      "source": [
        "array_2d = np.array([[1, 2, 3], [4, 5, 6]])\n",
        "\n",
        "print(f'Total Elements in the Array: {array_2d.size}')"
      ],
      "metadata": {
        "colab": {
          "base_uri": "https://localhost:8080/"
        },
        "id": "bspw6ygUtwLD",
        "outputId": "48888ec0-15ac-4327-e16d-6a92101c51f2"
      },
      "execution_count": 28,
      "outputs": [
        {
          "output_type": "stream",
          "name": "stdout",
          "text": [
            "Total Elements in the Array: 6\n"
          ]
        }
      ]
    },
    {
      "cell_type": "code",
      "source": [
        "array_1d = np.array([1, 2, 3, 4, 5])\n",
        "\n",
        "array_2d = np.array([[1, 2, 3], [4, 5, 6]])\n",
        "\n",
        "print(\"First Element of 1D Array:\", array_1d[0])\n",
        "\n",
        "print(array_2d)\n",
        "\n",
        "print(\"Element at Row 1, Column 2 of 2D Array:\", array_2d[1, 2])"
      ],
      "metadata": {
        "colab": {
          "base_uri": "https://localhost:8080/"
        },
        "id": "5tjF1XwwvUDM",
        "outputId": "8f6d4350-f95d-443f-8490-c0a898a2a3c9"
      },
      "execution_count": 30,
      "outputs": [
        {
          "output_type": "stream",
          "name": "stdout",
          "text": [
            "First Element of 1D Array: 1\n",
            "[[1 2 3]\n",
            " [4 5 6]]\n",
            "Element at Row 1, Column 2 of 2D Array: 6\n"
          ]
        }
      ]
    },
    {
      "cell_type": "code",
      "source": [
        "array_1d = np.array([1, 2, 3, 4, 5])\n",
        "\n",
        "array_2d = np.array([[1, 2, 3, 4], [4, 5, 6, 7], [7, 8, 9, 10], [10, 11, 12, 13]])\n",
        "\n",
        "print(\"Slicing 1D Array (first three elements):\\n\", array_1d[2:])\n",
        "\n",
        "print(\"Array 2D Looks something like this: \\n\", array_2d)\n",
        "\n",
        "print(\"Slicing 2D Array (first row):\\n\", array_2d[2:3, 2:3])"
      ],
      "metadata": {
        "colab": {
          "base_uri": "https://localhost:8080/"
        },
        "id": "P8v45DKmvlAx",
        "outputId": "dd9abf5c-42fe-47bd-86aa-2699a4f552b8"
      },
      "execution_count": 81,
      "outputs": [
        {
          "output_type": "stream",
          "name": "stdout",
          "text": [
            "Slicing 1D Array (first three elements):\n",
            " [3 4 5]\n",
            "Array 2D Looks something like this: \n",
            " [[ 1  2  3  4]\n",
            " [ 4  5  6  7]\n",
            " [ 7  8  9 10]\n",
            " [10 11 12 13]]\n",
            "Slicing 2D Array (first row):\n",
            " [[9]]\n"
          ]
        }
      ]
    },
    {
      "cell_type": "code",
      "source": [
        "flattened_array = array_2d.flatten()\n",
        "\n",
        "print(\"Flattened Array:\", flattened_array)"
      ],
      "metadata": {
        "colab": {
          "base_uri": "https://localhost:8080/"
        },
        "id": "DYDgdOlzv0Lb",
        "outputId": "1b1a39f6-2fdd-4345-d334-7549a98206e9"
      },
      "execution_count": 92,
      "outputs": [
        {
          "output_type": "stream",
          "name": "stdout",
          "text": [
            "Flattened Array: [ 1  2  3  4  4  5  6  7  7  8  9 10 10 11 12 13]\n"
          ]
        }
      ]
    },
    {
      "cell_type": "code",
      "source": [
        "array_a = np.array([[1, 2], [3, 4]])\n",
        "array_b = np.array([[5, 6]])\n",
        "concatenated_array = np.concatenate((array_a, array_b))\n",
        "print(\"Concatenated Array:\\n\", concatenated_array)"
      ],
      "metadata": {
        "colab": {
          "base_uri": "https://localhost:8080/"
        },
        "id": "hHbuRXTczzm4",
        "outputId": "a6ea7a0d-af11-4507-9ff5-a96f67fb3041"
      },
      "execution_count": 97,
      "outputs": [
        {
          "output_type": "stream",
          "name": "stdout",
          "text": [
            "Concatenated Array:\n",
            " [[1 2]\n",
            " [3 4]\n",
            " [5 6]]\n"
          ]
        }
      ]
    },
    {
      "cell_type": "code",
      "source": [
        "sum_array = array_a + array_b\n",
        "\n",
        "print(\"Sum Array:\\n\", sum_array)"
      ],
      "metadata": {
        "colab": {
          "base_uri": "https://localhost:8080/"
        },
        "id": "Vh0zp2K106I2",
        "outputId": "b2b0b8be-ae5f-47f2-d96d-d9d66c1e543e"
      },
      "execution_count": 99,
      "outputs": [
        {
          "output_type": "stream",
          "name": "stdout",
          "text": [
            "Sum Array:\n",
            " [[ 6  8]\n",
            " [ 8 10]]\n"
          ]
        }
      ]
    },
    {
      "cell_type": "code",
      "source": [],
      "metadata": {
        "id": "xgrTlcBg1NJF"
      },
      "execution_count": 100,
      "outputs": []
    },
    {
      "cell_type": "code",
      "source": [],
      "metadata": {
        "id": "VUNqtoKy1jL-"
      },
      "execution_count": null,
      "outputs": []
    }
  ]
}
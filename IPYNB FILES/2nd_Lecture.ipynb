{
  "cells": [
    {
      "cell_type": "markdown",
      "metadata": {
        "id": "fly7WmTDtTLM"
      },
      "source": [
        "**BUILT IN DATA TYPES**"
      ]
    },
    {
      "cell_type": "code",
      "execution_count": 40,
      "metadata": {
        "colab": {
          "base_uri": "https://localhost:8080/",
          "height": 402
        },
        "id": "PAV4-rgDNAY2",
        "outputId": "7c665fad-a0d9-4747-bd57-34f6cc47e621"
      },
      "outputs": [
        {
          "name": "stdout",
          "output_type": "stream",
          "text": [
            "Parthav\n",
            "<class 'str'>\n",
            "Parthav\n"
          ]
        }
      ],
      "source": [
        "# String\n",
        "\n",
        "x = \"Parthav\"\n",
        "\n",
        "print(x)\n",
        "print(type(x))\n",
        "\n",
        "y = input(\"Enter your name\")\n",
        "\n",
        "print(y)"
      ]
    },
    {
      "cell_type": "code",
      "execution_count": 41,
      "metadata": {
        "colab": {
          "base_uri": "https://localhost:8080/"
        },
        "id": "lcNMV-mite8X",
        "outputId": "7881698c-63d9-48c5-f668-a41002544f6d"
      },
      "outputs": [
        {
          "name": "stdout",
          "output_type": "stream",
          "text": [
            "20\n",
            "20.3\n",
            "<class 'int'>\n",
            "<class 'float'>\n"
          ]
        }
      ],
      "source": [
        "# Numeric Data Types\n",
        "\n",
        "x = 20\n",
        "\n",
        "y = 20.30\n",
        "\n",
        "print(x)\n",
        "print(y)\n",
        "\n",
        "print(type(x))\n",
        "print(type(y))"
      ]
    },
    {
      "cell_type": "code",
      "execution_count": 42,
      "metadata": {
        "colab": {
          "base_uri": "https://localhost:8080/"
        },
        "id": "5HhYsARAt6uk",
        "outputId": "c6b69f7d-ce6e-4e80-f43c-33185e533da7"
      },
      "outputs": [
        {
          "name": "stdout",
          "output_type": "stream",
          "text": [
            "0\n",
            "1\n",
            "2\n",
            "3\n",
            "4\n",
            "5\n",
            "5\n",
            "('apple', 'banana', 'cherry')\n",
            "range(0, 6)\n",
            "<class 'int'>\n",
            "<class 'tuple'>\n",
            "<class 'range'>\n"
          ]
        }
      ],
      "source": [
        "# List, Tuple, Range\n",
        "\n",
        "x = [\"apple\", \"banana\", \"cherry\"]\n",
        "\n",
        "y = (\"apple\", \"banana\", \"cherry\")\n",
        "\n",
        "z = range(6)\n",
        "\n",
        "for x in z:\n",
        "  print(x)\n",
        "\n",
        "print(x)\n",
        "print(y)\n",
        "print(z)\n",
        "\n",
        "print(type(x))\n",
        "print(type(y))\n",
        "print(type(z))"
      ]
    },
    {
      "cell_type": "code",
      "execution_count": 43,
      "metadata": {
        "colab": {
          "base_uri": "https://localhost:8080/"
        },
        "id": "2TrKBMwiuTb7",
        "outputId": "47aec933-f7b9-497d-da8a-d09e9c23ae9e"
      },
      "outputs": [
        {
          "name": "stdout",
          "output_type": "stream",
          "text": [
            "{'name': 'Parthav', 'age': 21}\n",
            "<class 'dict'>\n"
          ]
        }
      ],
      "source": [
        "# Dict (Dict is a mapping type of Data Type)\n",
        "\n",
        "x = {\"name\" : \"Parthav\", \"age\" : 21}\n",
        "\n",
        "print(x)\n",
        "print(type(x))"
      ]
    },
    {
      "cell_type": "code",
      "execution_count": 44,
      "metadata": {
        "colab": {
          "base_uri": "https://localhost:8080/"
        },
        "id": "jY9roZ-yukO6",
        "outputId": "ce45e3fc-56f1-40ba-9254-58692188dc05"
      },
      "outputs": [
        {
          "name": "stdout",
          "output_type": "stream",
          "text": [
            "{'cherry', 'apple', 'banana'}\n",
            "<class 'set'>\n"
          ]
        }
      ],
      "source": [
        "# Set\n",
        "\n",
        "x = {\"apple\", \"banana\", \"cherry\"}\n",
        "\n",
        "print(x)\n",
        "print(type(x))"
      ]
    },
    {
      "cell_type": "code",
      "execution_count": 45,
      "metadata": {
        "colab": {
          "base_uri": "https://localhost:8080/"
        },
        "id": "sV2P_I1iu-y9",
        "outputId": "95a531f7-6d57-4acf-8ab3-e0cd2510416a"
      },
      "outputs": [
        {
          "name": "stdout",
          "output_type": "stream",
          "text": [
            "frozenset({'cherry', 'apple', 'banana'})\n",
            "<class 'frozenset'>\n"
          ]
        }
      ],
      "source": [
        "# Frozen Set\n",
        "\n",
        "x = frozenset({\"apple\", \"banana\", \"cherry\"})\n",
        "\n",
        "print(x)\n",
        "print(type(x))"
      ]
    },
    {
      "cell_type": "code",
      "execution_count": 46,
      "metadata": {
        "colab": {
          "base_uri": "https://localhost:8080/"
        },
        "id": "f1AUq4u-vEsY",
        "outputId": "a0346971-4f64-495a-c88e-c5dcd6be7a58"
      },
      "outputs": [
        {
          "name": "stdout",
          "output_type": "stream",
          "text": [
            "True\n",
            "<class 'bool'>\n",
            "False\n",
            "<class 'bool'>\n"
          ]
        }
      ],
      "source": [
        "# bool\n",
        "\n",
        "x = True\n",
        "y = False\n",
        "\n",
        "print(x)\n",
        "print(type(x))\n",
        "\n",
        "print(y)\n",
        "print(type(y))"
      ]
    },
    {
      "cell_type": "code",
      "execution_count": 47,
      "metadata": {
        "colab": {
          "base_uri": "https://localhost:8080/"
        },
        "id": "dCHJ4XdEvbR2",
        "outputId": "16233dea-f472-4d99-c17a-8a1986dba7a2"
      },
      "outputs": [
        {
          "name": "stdout",
          "output_type": "stream",
          "text": [
            "None\n",
            "<class 'NoneType'>\n"
          ]
        }
      ],
      "source": [
        "# NoneType\n",
        "\n",
        "x = None\n",
        "\n",
        "print(x)\n",
        "print(type(x))"
      ]
    },
    {
      "cell_type": "markdown",
      "metadata": {
        "id": "n-gy2jIWv71h"
      },
      "source": [
        "**RANDOM MODULE**"
      ]
    },
    {
      "cell_type": "code",
      "execution_count": 48,
      "metadata": {
        "colab": {
          "base_uri": "https://localhost:8080/"
        },
        "id": "KpKeiDAbvg5M",
        "outputId": "a37460d5-a576-4209-a684-a896aa7eaf37"
      },
      "outputs": [
        {
          "name": "stdout",
          "output_type": "stream",
          "text": [
            "5\n"
          ]
        }
      ],
      "source": [
        "import random\n",
        "\n",
        "print(random.randrange(1, 10))"
      ]
    },
    {
      "cell_type": "markdown",
      "metadata": {
        "id": "vufYPkIRv42c"
      },
      "source": [
        "**CASTING**"
      ]
    },
    {
      "cell_type": "code",
      "execution_count": 49,
      "metadata": {
        "colab": {
          "base_uri": "https://localhost:8080/"
        },
        "id": "-kqX8l-EvxyQ",
        "outputId": "22283199-e23d-44d7-ec06-1a5cd4e1702f"
      },
      "outputs": [
        {
          "name": "stdout",
          "output_type": "stream",
          "text": [
            "1\n",
            "2\n",
            "3\n",
            "<class 'int'>\n",
            "<class 'int'>\n",
            "<class 'int'>\n"
          ]
        }
      ],
      "source": [
        "x = int(1)\n",
        "y = int(2.8)\n",
        "z = int(\"3\")\n",
        "\n",
        "print(x)\n",
        "print(y)\n",
        "print(z)\n",
        "\n",
        "print(type(x))\n",
        "print(type(y))\n",
        "print(type(z))"
      ]
    },
    {
      "cell_type": "code",
      "execution_count": 50,
      "metadata": {
        "colab": {
          "base_uri": "https://localhost:8080/"
        },
        "id": "jHG0MLHUwIzo",
        "outputId": "d44460f2-1ae8-4363-f2f5-60bd766c3f43"
      },
      "outputs": [
        {
          "name": "stdout",
          "output_type": "stream",
          "text": [
            "1.0\n",
            "2.8\n",
            "3.0\n",
            "4.2\n",
            "<class 'float'>\n",
            "<class 'float'>\n",
            "<class 'float'>\n",
            "<class 'float'>\n"
          ]
        }
      ],
      "source": [
        "x = float(1)\n",
        "y = float(2.8)\n",
        "z = float(\"3\")\n",
        "w = float(\"4.2\")\n",
        "\n",
        "print(x)\n",
        "print(y)\n",
        "print(z)\n",
        "print(w)\n",
        "\n",
        "print(type(x))\n",
        "print(type(y))\n",
        "print(type(z))\n",
        "print(type(w))"
      ]
    },
    {
      "cell_type": "code",
      "execution_count": 51,
      "metadata": {
        "colab": {
          "base_uri": "https://localhost:8080/"
        },
        "id": "_L6E-abpwdXm",
        "outputId": "62d67d57-739b-4c2e-b171-734818aa9912"
      },
      "outputs": [
        {
          "name": "stdout",
          "output_type": "stream",
          "text": [
            "s1\n",
            "2\n",
            "3.0\n",
            "<class 'str'>\n",
            "<class 'str'>\n",
            "<class 'str'>\n"
          ]
        }
      ],
      "source": [
        "x = str(\"s1\")\n",
        "y = str(2)\n",
        "z = str(3.0)\n",
        "\n",
        "print(x)\n",
        "print(y)\n",
        "print(z)\n",
        "\n",
        "print(type(x))\n",
        "print(type(y))\n",
        "print(type(z))"
      ]
    },
    {
      "cell_type": "markdown",
      "metadata": {
        "id": "uG8Z48hA3dLm"
      },
      "source": [
        "**STRINGS ARE ARRAYS**"
      ]
    },
    {
      "cell_type": "code",
      "execution_count": 52,
      "metadata": {
        "colab": {
          "base_uri": "https://localhost:8080/"
        },
        "id": "uwmYhJCxwovY",
        "outputId": "9c14b79d-3f86-4f84-cc78-780505e6a906"
      },
      "outputs": [
        {
          "name": "stdout",
          "output_type": "stream",
          "text": [
            "v\n"
          ]
        }
      ],
      "source": [
        "a = \"Parthav\"\n",
        "\n",
        "print(a[6])"
      ]
    },
    {
      "cell_type": "code",
      "execution_count": 1,
      "metadata": {
        "colab": {
          "base_uri": "https://localhost:8080/"
        },
        "id": "1n_kmnISGLgC",
        "outputId": "8dd0ac72-f56e-4c92-9285-493a80eb1ff8"
      },
      "outputs": [
        {
          "name": "stdout",
          "output_type": "stream",
          "text": [
            "H\n",
            "i\n",
            "m\n",
            "a\n",
            "n\n",
            "s\n",
            "h\n",
            "u\n"
          ]
        }
      ],
      "source": [
        "# Looping through Strings\n",
        "\n",
        "a = \"Parthav\"\n",
        "b = \"Himanshu\"\n",
        "\n",
        "for y in b:\n",
        "  print(y)\n",
        "\n",
        "# for x in a:\n",
        "#   print(x)"
      ]
    },
    {
      "cell_type": "code",
      "execution_count": 6,
      "metadata": {
        "colab": {
          "base_uri": "https://localhost:8080/"
        },
        "id": "uNFEU4VpG5_P",
        "outputId": "693d5353-51ad-481a-f7ae-f94091cd0e84"
      },
      "outputs": [
        {
          "name": "stdout",
          "output_type": "stream",
          "text": [
            "Himansu\n"
          ]
        }
      ],
      "source": [
        "# Another example of looping through a string\n",
        "b = \"veron institute\"\n",
        "a = \" Himansu \"\n",
        "\n",
        "print(a.strip())\n",
        "# for y in b:\n",
        "#     print(y.upper())"
      ]
    },
    {
      "cell_type": "code",
      "execution_count": 7,
      "metadata": {
        "colab": {
          "base_uri": "https://localhost:8080/"
        },
        "id": "xd2hT-UiJLSw",
        "outputId": "b31a3a1e-514e-4d68-9072-932cc2cc59f9"
      },
      "outputs": [
        {
          "name": "stdout",
          "output_type": "stream",
          "text": [
            "5\n"
          ]
        }
      ],
      "source": [
        "# Length of the String\n",
        "\n",
        "a = \"Veron\"\n",
        "print(len(a))"
      ]
    },
    {
      "cell_type": "code",
      "execution_count": 10,
      "metadata": {
        "colab": {
          "base_uri": "https://localhost:8080/"
        },
        "id": "IQJFYKSIJhy-",
        "outputId": "fc0d863f-b5e0-464a-8851-f56f6260f2b0"
      },
      "outputs": [
        {
          "name": "stdout",
          "output_type": "stream",
          "text": [
            "False\n"
          ]
        }
      ],
      "source": [
        "# Check if something is present in the Line\n",
        "\n",
        "a = \"Amritsar is the best city of the punj!\"\n",
        "print(\"punj\" not in a)"
      ]
    },
    {
      "cell_type": "code",
      "execution_count": 57,
      "metadata": {
        "colab": {
          "base_uri": "https://localhost:8080/"
        },
        "id": "jyUZjAIZJvMz",
        "outputId": "241e65e4-3a06-4f87-9478-a9b4b438703c"
      },
      "outputs": [
        {
          "name": "stdout",
          "output_type": "stream",
          "text": [
            "True\n",
            "False\n",
            "True\n"
          ]
        }
      ],
      "source": [
        "a = \"Hello, Guys!\"\n",
        "print(\",\" in a)\n",
        "print(\".\" in a)\n",
        "print(\"!\" in a)"
      ]
    },
    {
      "cell_type": "code",
      "execution_count": 58,
      "metadata": {
        "colab": {
          "base_uri": "https://localhost:8080/"
        },
        "id": "4jaUpqaeKmVD",
        "outputId": "9c335e96-3eb9-4511-eafd-d428bca67bfa"
      },
      "outputs": [
        {
          "name": "stdout",
          "output_type": "stream",
          "text": [
            "False\n",
            "True\n",
            "False\n"
          ]
        }
      ],
      "source": [
        "txt = \"My phone number is 8369123312\"\n",
        "print(\"1\" not in txt)\n",
        "print(\"9\" in txt)\n",
        "print(\"0\" in txt)"
      ]
    },
    {
      "cell_type": "code",
      "execution_count": 15,
      "metadata": {
        "id": "nT6Th3ntLC2T"
      },
      "outputs": [
        {
          "name": "stdout",
          "output_type": "stream",
          "text": [
            "yes\n"
          ]
        }
      ],
      "source": [
        "x = 4\n",
        "txt = \"The best things in life are free!\"\n",
        "if x > 5:\n",
        "  print(\"No, 'expensive' is NOT present.\")\n",
        "elif \"best\" not in txt:\n",
        "  print(\"Yes\")\n",
        "elif \"things\" in txt:\n",
        "  print(\"yes\")"
      ]
    },
    {
      "cell_type": "markdown",
      "metadata": {
        "id": "KXDWCydAMgat"
      },
      "source": [
        "**SLICING STRINGS**"
      ]
    },
    {
      "cell_type": "code",
      "execution_count": 21,
      "metadata": {
        "colab": {
          "base_uri": "https://localhost:8080/"
        },
        "id": "735Hpg1QMgHK",
        "outputId": "abfd176b-98b0-42e5-b8bb-5661fd1822f9"
      },
      "outputs": [
        {
          "name": "stdout",
          "output_type": "stream",
          "text": [
            "shu\n"
          ]
        }
      ],
      "source": [
        "a = \"Himanshu\"\n",
        "\n",
        "b = a[5::]\n",
        "\n",
        "print(b)"
      ]
    },
    {
      "cell_type": "code",
      "execution_count": 61,
      "metadata": {
        "colab": {
          "base_uri": "https://localhost:8080/"
        },
        "id": "YyWSh1cHMnN-",
        "outputId": "2ed0e42d-8846-4c6c-c1c4-414c3871de45"
      },
      "outputs": [
        {
          "name": "stdout",
          "output_type": "stream",
          "text": [
            "ello, Parthav!\n"
          ]
        }
      ],
      "source": [
        "b = \"Hello, Parthav!\"\n",
        "print(b[1:])"
      ]
    },
    {
      "cell_type": "code",
      "execution_count": 62,
      "metadata": {
        "colab": {
          "base_uri": "https://localhost:8080/"
        },
        "id": "27OEbUGhNEsk",
        "outputId": "657a84dd-a22c-4cae-a651-3c61303b2a3d"
      },
      "outputs": [
        {
          "name": "stdout",
          "output_type": "stream",
          "text": [
            "llo, Parthav!\n"
          ]
        }
      ],
      "source": [
        "b = \"Hello, Parthav!\"\n",
        "print(b[2:])"
      ]
    },
    {
      "cell_type": "code",
      "execution_count": 63,
      "metadata": {
        "colab": {
          "base_uri": "https://localhost:8080/"
        },
        "id": "-j1eAmkrNmRq",
        "outputId": "348dddea-637c-4a98-c4c6-989c934d8b78"
      },
      "outputs": [
        {
          "name": "stdout",
          "output_type": "stream",
          "text": [
            "tha\n"
          ]
        }
      ],
      "source": [
        "b = \"Hello, Parthav!\"\n",
        "print(b[-5:-2])"
      ]
    },
    {
      "cell_type": "code",
      "execution_count": 64,
      "metadata": {
        "colab": {
          "base_uri": "https://localhost:8080/"
        },
        "id": "94JXGGdaOr8Z",
        "outputId": "81996c35-da54-4b3d-828d-e62b98a0767a"
      },
      "outputs": [
        {
          "name": "stdout",
          "output_type": "stream",
          "text": [
            "lo, W\n"
          ]
        }
      ],
      "source": [
        "b = \"Hello, World!\"\n",
        "print(b[3:8])"
      ]
    },
    {
      "cell_type": "code",
      "execution_count": 65,
      "metadata": {
        "colab": {
          "base_uri": "https://localhost:8080/"
        },
        "id": "UqjsBODsQJnO",
        "outputId": "290cd82e-6933-4b2c-fc04-1430a0a93b82"
      },
      "outputs": [
        {
          "name": "stdout",
          "output_type": "stream",
          "text": [
            "Hl r!\n"
          ]
        }
      ],
      "source": [
        "b = \"Hello, World!\"\n",
        "print(b[::3])"
      ]
    },
    {
      "cell_type": "code",
      "execution_count": 66,
      "metadata": {
        "colab": {
          "base_uri": "https://localhost:8080/"
        },
        "id": "kmZJ1Wl2QQIV",
        "outputId": "3e23b40a-34cb-4208-ba34-c6277a7d3e3b"
      },
      "outputs": [
        {
          "name": "stdout",
          "output_type": "stream",
          "text": [
            "!dlroW ,olleH\n"
          ]
        }
      ],
      "source": [
        "b = \"Hello, World!\"\n",
        "print(b[::-1])"
      ]
    },
    {
      "cell_type": "code",
      "execution_count": 67,
      "metadata": {
        "colab": {
          "base_uri": "https://localhost:8080/"
        },
        "id": "fHklK8e1Qx0Y",
        "outputId": "a43f49c0-b80a-40a9-c867-42aea0d3da04"
      },
      "outputs": [
        {
          "name": "stdout",
          "output_type": "stream",
          "text": [
            "PARTHAV\n"
          ]
        }
      ],
      "source": [
        "# String Functions\n",
        "a = \"parthav\"\n",
        "\n",
        "print(a.upper())"
      ]
    },
    {
      "cell_type": "code",
      "execution_count": 68,
      "metadata": {
        "colab": {
          "base_uri": "https://localhost:8080/"
        },
        "id": "YTg8YjS9RBm7",
        "outputId": "21c04b07-5c2f-4131-b271-683228f33b40"
      },
      "outputs": [
        {
          "name": "stdout",
          "output_type": "stream",
          "text": [
            "parthav\n"
          ]
        }
      ],
      "source": [
        "a = \"PARTHAV\"\n",
        "\n",
        "print(a.lower())"
      ]
    },
    {
      "cell_type": "code",
      "execution_count": 22,
      "metadata": {
        "colab": {
          "base_uri": "https://localhost:8080/"
        },
        "id": "MqHTD72VRFPN",
        "outputId": "0d5e4a34-b146-4347-9257-581e6f3387e9"
      },
      "outputs": [
        {
          "name": "stdout",
          "output_type": "stream",
          "text": [
            "parthavsabrwal@gmail.com\n"
          ]
        }
      ],
      "source": [
        "a = \" i am parthav \"\n",
        "a = \" parthavsabrwal@gmail.com \"\n",
        "print(a.strip())"
      ]
    },
    {
      "cell_type": "code",
      "execution_count": 70,
      "metadata": {
        "colab": {
          "base_uri": "https://localhost:8080/"
        },
        "id": "S788n-fjRLdg",
        "outputId": "1ea7ffc3-99d2-4b89-8eac-bbb310bf141f"
      },
      "outputs": [
        {
          "name": "stdout",
          "output_type": "stream",
          "text": [
            "i am parthav \n"
          ]
        }
      ],
      "source": [
        "a = \" i am parthav \"\n",
        "\n",
        "print(a.lstrip())"
      ]
    },
    {
      "cell_type": "code",
      "execution_count": 23,
      "metadata": {
        "colab": {
          "base_uri": "https://localhost:8080/"
        },
        "id": "IH4Y4YF7Rspm",
        "outputId": "e6b4b99e-5429-4f9d-a85f-687a904225d2"
      },
      "outputs": [
        {
          "name": "stdout",
          "output_type": "stream",
          "text": [
            " i am parthav\n"
          ]
        }
      ],
      "source": [
        "a = \" i am parthav \"\n",
        "\n",
        "print(a.rstrip())"
      ]
    },
    {
      "cell_type": "code",
      "execution_count": 24,
      "metadata": {
        "colab": {
          "base_uri": "https://localhost:8080/"
        },
        "id": "tOYIWHcsRvr-",
        "outputId": "a104873f-510f-4c4b-ef25-774732164eed"
      },
      "outputs": [
        {
          "name": "stdout",
          "output_type": "stream",
          "text": [
            "Hello, Parthav!\n"
          ]
        }
      ],
      "source": [
        "a = \"Hi, Parthav!\"\n",
        "print(a.replace(\"Hi\", \"Hello\"))"
      ]
    },
    {
      "cell_type": "code",
      "execution_count": 73,
      "metadata": {
        "colab": {
          "base_uri": "https://localhost:8080/"
        },
        "id": "v-zSHKhWR2JC",
        "outputId": "079a9a58-b20a-4c47-f6c3-6a706f8a8664"
      },
      "outputs": [
        {
          "name": "stdout",
          "output_type": "stream",
          "text": [
            "Hello, Harthav\n"
          ]
        }
      ],
      "source": [
        "a = \"Jello, Jarthav\"\n",
        "\n",
        "print(a.replace(\"J\", \"H\"))"
      ]
    },
    {
      "cell_type": "code",
      "execution_count": 25,
      "metadata": {
        "colab": {
          "base_uri": "https://localhost:8080/"
        },
        "id": "W-88fXcqSDu5",
        "outputId": "decc2e53-b57d-4a9c-d53b-8bb715b2186e"
      },
      "outputs": [
        {
          "data": {
            "text/plain": [
              "['P', 'rth', 'v Ji']"
            ]
          },
          "execution_count": 25,
          "metadata": {},
          "output_type": "execute_result"
        }
      ],
      "source": [
        "a = \"Parthav Ji\"\n",
        "\n",
        "a.split(\"a\")"
      ]
    },
    {
      "cell_type": "code",
      "execution_count": 75,
      "metadata": {
        "id": "4ORGrpAvSLj8"
      },
      "outputs": [],
      "source": [
        "# capitalize()\tConverts the first character to upper case\n",
        "# casefold()\tConverts string into lower case\n",
        "# center()\tReturns a centered string\n",
        "# count()\tReturns the number of times a specified value occurs in a string\n",
        "# encode()\tReturns an encoded version of the string\n",
        "# endswith()\tReturns true if the string ends with the specified value\n",
        "# expandtabs()\tSets the tab size of the string\n",
        "# find()\tSearches the string for a specified value and returns the position of where it was found\n",
        "# format()\tFormats specified values in a string\n",
        "# format_map()\tFormats specified values in a string\n",
        "# index()\tSearches the string for a specified value and returns the position of where it was found\n",
        "# isalnum()\tReturns True if all characters in the string are alphanumeric\n",
        "# isalpha()\tReturns True if all characters in the string are in the alphabet\n",
        "# isascii()\tReturns True if all characters in the string are ascii characters\n",
        "# isdecimal()\tReturns True if all characters in the string are decimals\n",
        "# isdigit()\tReturns True if all characters in the string are digits\n",
        "# isidentifier()\tReturns True if the string is an identifier\n",
        "# islower()\tReturns True if all characters in the string are lower case\n",
        "# isnumeric()\tReturns True if all characters in the string are numeric\n",
        "# isprintable()\tReturns True if all characters in the string are printable\n",
        "# isspace()\tReturns True if all characters in the string are whitespaces\n",
        "# istitle()\tReturns True if the string follows the rules of a title\n",
        "# isupper()\tReturns True if all characters in the string are upper case\n",
        "# join()\tConverts the elements of an iterable into a string\n",
        "# ljust()\tReturns a left justified version of the string\n",
        "# lower()\tConverts a string into lower case\n",
        "# lstrip()\tReturns a left trim version of the string\n",
        "# maketrans()\tReturns a translation table to be used in translations\n",
        "# partition()\tReturns a tuple where the string is parted into three parts\n",
        "# replace()\tReturns a string where a specified value is replaced with a specified value\n",
        "# rfind()\tSearches the string for a specified value and returns the last position of where it was found\n",
        "# rindex()\tSearches the string for a specified value and returns the last position of where it was found\n",
        "# rjust()\tReturns a right justified version of the string\n",
        "# rpartition()\tReturns a tuple where the string is parted into three parts\n",
        "# rsplit()\tSplits the string at the specified separator, and returns a list\n",
        "# rstrip()\tReturns a right trim version of the string\n",
        "# split()\tSplits the string at the specified separator, and returns a list\n",
        "# splitlines()\tSplits the string at line breaks and returns a list\n",
        "# startswith()\tReturns true if the string starts with the specified value\n",
        "# strip()\tReturns a trimmed version of the string\n",
        "# swapcase()\tSwaps cases, lower case becomes upper case and vice versa\n",
        "# title()\tConverts the first character of each word to upper case\n",
        "# translate()\tReturns a translated string\n",
        "# upper()\tConverts a string into upper case\n",
        "# zfill()\tFills the string with a specified number of 0 values at the beginning"
      ]
    },
    {
      "cell_type": "markdown",
      "metadata": {
        "id": "rFHx0PkKUlg2"
      },
      "source": [
        "**CONCATENATE STRINGS**"
      ]
    },
    {
      "cell_type": "code",
      "execution_count": 76,
      "metadata": {
        "colab": {
          "base_uri": "https://localhost:8080/"
        },
        "id": "G630RoK6SlqB",
        "outputId": "d75cb990-49bc-4084-aad0-4dfa9f345c8d"
      },
      "outputs": [
        {
          "name": "stdout",
          "output_type": "stream",
          "text": [
            "Helloji\n"
          ]
        }
      ],
      "source": [
        "a = \"Hello\"\n",
        "b = \"ji\"\n",
        "\n",
        "c = a + b\n",
        "print(c)"
      ]
    },
    {
      "cell_type": "code",
      "execution_count": 77,
      "metadata": {
        "colab": {
          "base_uri": "https://localhost:8080/"
        },
        "id": "2uiW_xLWSqfw",
        "outputId": "9969f697-8674-438d-b657-e63d41298163"
      },
      "outputs": [
        {
          "name": "stdout",
          "output_type": "stream",
          "text": [
            "Hello Ji\n"
          ]
        }
      ],
      "source": [
        "a = \"Hello\"\n",
        "b = \"Ji\"\n",
        "\n",
        "c = a + \" \" + b\n",
        "print(c)"
      ]
    },
    {
      "cell_type": "markdown",
      "metadata": {
        "id": "xBquW40BUp7x"
      },
      "source": [
        "**FORMAT STRINGS**"
      ]
    },
    {
      "cell_type": "code",
      "execution_count": 33,
      "metadata": {
        "colab": {
          "base_uri": "https://localhost:8080/"
        },
        "id": "iZfOTWf7Sz8d",
        "outputId": "3a6d5cf4-fb37-42fc-b8db-1c9b76b635e0"
      },
      "outputs": [
        {
          "name": "stdout",
          "output_type": "stream",
          "text": [
            "9\n",
            "10\n"
          ]
        }
      ],
      "source": [
        "# age = 36\n",
        "# txt = \"My name is Parthav, I am \" + age\n",
        "# print(txt)\n",
        "\n",
        "# name1 = \"Himanshu\"\n",
        "# name2 = \"Bhawar\"\n",
        "\n",
        "# print(f\"Hello How are you guys: {name1} {name2}\")\n",
        "import random as rd\n",
        "\n",
        "x = rd.randint(1, 10)\n",
        "print(x)\n",
        "z = 10\n",
        "try:\n",
        "    print(z)\n",
        "except Exception as e:\n",
        "    print(f'Error: {e}')"
      ]
    },
    {
      "cell_type": "code",
      "execution_count": null,
      "metadata": {
        "colab": {
          "base_uri": "https://localhost:8080/"
        },
        "id": "NuOdpXl7TIZJ",
        "outputId": "9454747b-1d75-40c8-fb49-f21a88a95139"
      },
      "outputs": [
        {
          "name": "stdout",
          "output_type": "stream",
          "text": [
            "In 10 years, I will be 32.00\n"
          ]
        }
      ],
      "source": [
        "age = 32\n",
        "txt = f\"In 10 years, I will be {age:.2f}\"\n",
        "print(txt)"
      ]
    },
    {
      "cell_type": "code",
      "execution_count": null,
      "metadata": {
        "colab": {
          "base_uri": "https://localhost:8080/"
        },
        "id": "buOH-kCzTlrS",
        "outputId": "ba1970aa-1831-46b0-d50a-aa9521775239"
      },
      "outputs": [
        {
          "name": "stdout",
          "output_type": "stream",
          "text": [
            "The price of entry to stadium is Rs.79 \n"
          ]
        }
      ],
      "source": [
        "txt = f\"The price of entry to stadium is Rs.{20 + 59} \"\n",
        "print(txt)"
      ]
    },
    {
      "cell_type": "code",
      "execution_count": null,
      "metadata": {
        "colab": {
          "base_uri": "https://localhost:8080/"
        },
        "id": "BK02mLzITpB4",
        "outputId": "a68ac20e-846c-4b05-9a91-be959c516329"
      },
      "outputs": [
        {
          "name": "stdout",
          "output_type": "stream",
          "text": [
            "It is very Cheap\n"
          ]
        }
      ],
      "source": [
        "price = 50\n",
        "txt = f\"It is very {'Expensive' if price>50 else 'Cheap'}\"\n",
        "\n",
        "print(txt)"
      ]
    },
    {
      "cell_type": "code",
      "execution_count": null,
      "metadata": {
        "id": "hnJebwvwUdGE"
      },
      "outputs": [],
      "source": []
    }
  ],
  "metadata": {
    "colab": {
      "provenance": []
    },
    "kernelspec": {
      "display_name": "myenv",
      "language": "python",
      "name": "python3"
    },
    "language_info": {
      "codemirror_mode": {
        "name": "ipython",
        "version": 3
      },
      "file_extension": ".py",
      "mimetype": "text/x-python",
      "name": "python",
      "nbconvert_exporter": "python",
      "pygments_lexer": "ipython3",
      "version": "3.9.6"
    }
  },
  "nbformat": 4,
  "nbformat_minor": 0
}
